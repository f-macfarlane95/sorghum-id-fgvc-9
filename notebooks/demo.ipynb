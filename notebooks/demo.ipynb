{
 "cells": [
  {
   "cell_type": "markdown",
   "metadata": {},
   "source": [
    "# Notebook for performing classification of Sorghum varieties for FGVC 9\n",
    "\n",
    "First load tensorflow and verify installation and ensure devices are operational."
   ]
  },
  {
   "cell_type": "code",
   "execution_count": 1,
   "metadata": {},
   "outputs": [
    {
     "name": "stdout",
     "output_type": "stream",
     "text": [
      "2.8.0\n"
     ]
    }
   ],
   "source": [
    "import datetime, os, random\n",
    "import tensorflow as tf\n",
    "import matplotlib.pyplot as plt\n",
    "import numpy as np\n",
    "import tensorboard\n",
    "print(tf.__version__)"
   ]
  },
  {
   "cell_type": "code",
   "execution_count": 2,
   "metadata": {},
   "outputs": [
    {
     "name": "stdout",
     "output_type": "stream",
     "text": [
      "[PhysicalDevice(name='/physical_device:GPU:0', device_type='GPU'), PhysicalDevice(name='/physical_device:GPU:1', device_type='GPU')]\n"
     ]
    }
   ],
   "source": [
    "devices = tf.config.list_physical_devices('GPU')\n",
    "for device in devices:\n",
    "   tf.config.experimental.set_memory_growth(device, True) \n",
    "print(devices)\n",
    "\n",
    "os.environ['TF_CPP_MIN_LOG_LEVEL'] = '2'"
   ]
  },
  {
   "cell_type": "code",
   "execution_count": 3,
   "metadata": {},
   "outputs": [
    {
     "name": "stdout",
     "output_type": "stream",
     "text": [
      "Mon Apr 18 14:52:13 2022       \n",
      "+-----------------------------------------------------------------------------+\n",
      "| NVIDIA-SMI 510.47.03    Driver Version: 510.47.03    CUDA Version: 11.6     |\n",
      "|-------------------------------+----------------------+----------------------+\n",
      "| GPU  Name        Persistence-M| Bus-Id        Disp.A | Volatile Uncorr. ECC |\n",
      "| Fan  Temp  Perf  Pwr:Usage/Cap|         Memory-Usage | GPU-Util  Compute M. |\n",
      "|                               |                      |               MIG M. |\n",
      "|===============================+======================+======================|\n",
      "|   0  Quadro RTX 8000     Off  | 00000000:21:00.0 Off |                    0 |\n",
      "| N/A   34C    P0    57W / 250W |   1410MiB / 46080MiB |      0%      Default |\n",
      "|                               |                      |                  N/A |\n",
      "+-------------------------------+----------------------+----------------------+\n",
      "|   1  Quadro RTX 8000     Off  | 00000000:81:00.0 Off |                    0 |\n",
      "| N/A   35C    P0    59W / 250W |    324MiB / 46080MiB |      0%      Default |\n",
      "|                               |                      |                  N/A |\n",
      "+-------------------------------+----------------------+----------------------+\n",
      "                                                                               \n",
      "+-----------------------------------------------------------------------------+\n",
      "| Processes:                                                                  |\n",
      "|  GPU   GI   CI        PID   Type   Process name                  GPU Memory |\n",
      "|        ID   ID                                                   Usage      |\n",
      "|=============================================================================|\n",
      "|    0   N/A  N/A     91917      C   ...a/envs/tf2_8_0/bin/python     1407MiB |\n",
      "|    1   N/A  N/A     91917      C   ...a/envs/tf2_8_0/bin/python      321MiB |\n",
      "+-----------------------------------------------------------------------------+\n"
     ]
    }
   ],
   "source": [
    "!nvidia-smi"
   ]
  },
  {
   "cell_type": "code",
   "execution_count": 4,
   "metadata": {},
   "outputs": [],
   "source": [
    "TASK = \"FashionMNIST\""
   ]
  },
  {
   "cell_type": "code",
   "execution_count": 5,
   "metadata": {},
   "outputs": [],
   "source": [
    "%load_ext tensorboard\n"
   ]
  },
  {
   "cell_type": "code",
   "execution_count": 6,
   "metadata": {},
   "outputs": [],
   "source": [
    "fashion_mnist = tf.keras.datasets.fashion_mnist\n",
    "\n",
    "(x_train, y_train),(x_test, y_test) = fashion_mnist.load_data()\n",
    "x_train, x_test = x_train / 255.0, x_test / 255.0"
   ]
  },
  {
   "cell_type": "code",
   "execution_count": 7,
   "metadata": {},
   "outputs": [],
   "source": [
    "DATA_DICT = {0: \"T-shirt/top\",\n",
    "1: \"Trouser\",\n",
    "2: \"Pullover\",\n",
    "3: \"Dress\",\n",
    "4: \"Coat\",\n",
    "5: \"Sandal\",\n",
    "6: \"Shirt\",\n",
    "7: \"Sneaker\",\n",
    "8: \"Bag\",\n",
    "9: \"Ankle boot\"}"
   ]
  },
  {
   "cell_type": "code",
   "execution_count": 8,
   "metadata": {},
   "outputs": [
    {
     "data": {
      "image/png": "[encoded data removed]",
      "image/svg+xml": "<?xml version=\"1.0\" encoding=\"utf-8\" standalone=\"no\"?>\n<!DOCTYPE svg PUBLIC \"-//W3C//DTD SVG 1.1//EN\"\n  \"http://www.w3.org/Graphics/SVG/1.1/DTD/svg11.dtd\">\n<svg xmlns:xlink=\"http://www.w3.org/1999/xlink\" width=\"251.565pt\" height=\"263.63625pt\" viewBox=\"0 0 251.565 263.63625\" xmlns=\"http://www.w3.org/2000/svg\" version=\"1.1\">\n <metadata>\n  <rdf:RDF xmlns:dc=\"http://purl.org/dc/elements/1.1/\" xmlns:cc=\"http://creativecommons.org/ns#\" xmlns:rdf=\"http://www.w3.org/1999/02/22-rdf-syntax-ns#\">\n   <cc:Work>\n    <dc:type rdf:resource=\"http://purl.org/dc/dcmitype/StillImage\"/>\n    <dc:date>2022-04-18T14:52:15.408633</dc:date>\n    <dc:format>image/svg+xml</dc:format>\n    <dc:creator>\n     <cc:Agent>\n      <dc:title>Matplotlib v3.5.1, https://matplotlib.org/</dc:title>\n     </cc:Agent>\n    </dc:creator>\n   </cc:Work>\n  </rdf:RDF>\n </metadata>\n <defs>\n  <style type=\"text/css\">*{stroke-linejoin: round; stroke-linecap: butt}</style>\n </defs>\n <g id=\"figure_1\">\n  <g id=\"patch_1\">\n   <path d=\"M 0 263.63625 \nL 251.565 263.63625 \nL 251.565 0 \nL 0 0 \nL 0 263.63625 \nz\n\" style=\"fill: none\"/>\n  </g>\n  <g id=\"axes_1\">\n   <g id=\"patch_2\">\n    <path d=\"M 26.925 239.758125 \nL 244.365 239.758125 \nL 244.365 22.318125 \nL 26.925 22.318125 \nz\n\" style=\"fill: #ffffff\"/>\n   </g>\n   <g clip-path=\"url(#p2425bf2e8e)\">\n    <image xlink:href=\"data:image/png;base64,\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\" id=\"image27f405b941\" transform=\"scale(1 -1)translate(0 -218)\" x=\"26.925\" y=\"-21.758125\" width=\"218\" height=\"218\"/>\n   </g>\n   <g id=\"matplotlib.axis_1\">\n    <g id=\"xtick_1\">\n     <g id=\"line2d_1\">\n      <defs>\n       <path id=\"m54fa8219fa\" d=\"M 0 0 \nL 0 3.5 \n\" style=\"stroke: #000000; stroke-width: 0.8\"/>\n      </defs>\n      <g>\n       <use xlink:href=\"#m54fa8219fa\" x=\"30.807857\" y=\"239.758125\" style=\"stroke: #000000; stroke-width: 0.8\"/>\n      </g>\n     </g>\n     <g id=\"text_1\">\n      <!-- 0 -->\n      <g transform=\"translate(27.626607 254.356563)scale(0.1 -0.1)\">\n       <defs>\n        <path id=\"DejaVuSans-30\" d=\"M 2034 4250 \nQ 1547 4250 1301 3770 \nQ 1056 3291 1056 2328 \nQ 1056 1369 1301 889 \nQ 1547 409 2034 409 \nQ 2525 409 2770 889 \nQ 3016 1369 3016 2328 \nQ 3016 3291 2770 3770 \nQ 2525 4250 2034 4250 \nz\nM 2034 4750 \nQ 2819 4750 3233 4129 \nQ 3647 3509 3647 2328 \nQ 3647 1150 3233 529 \nQ 2819 -91 2034 -91 \nQ 1250 -91 836 529 \nQ 422 1150 422 2328 \nQ 422 3509 836 4129 \nQ 1250 4750 2034 4750 \nz\n\" transform=\"scale(0.015625)\"/>\n       </defs>\n       <use xlink:href=\"#DejaVuSans-30\"/>\n      </g>\n     </g>\n    </g>\n    <g id=\"xtick_2\">\n     <g id=\"line2d_2\">\n      <g>\n       <use xlink:href=\"#m54fa8219fa\" x=\"69.636429\" y=\"239.758125\" style=\"stroke: #000000; stroke-width: 0.8\"/>\n      </g>\n     </g>\n     <g id=\"text_2\">\n      <!-- 5 -->\n      <g transform=\"translate(66.455179 254.356563)scale(0.1 -0.1)\">\n       <defs>\n        <path id=\"DejaVuSans-35\" d=\"M 691 4666 \nL 3169 4666 \nL 3169 4134 \nL 1269 4134 \nL 1269 2991 \nQ 1406 3038 1543 3061 \nQ 1681 3084 1819 3084 \nQ 2600 3084 3056 2656 \nQ 3513 2228 3513 1497 \nQ 3513 744 3044 326 \nQ 2575 -91 1722 -91 \nQ 1428 -91 1123 -41 \nQ 819 9 494 109 \nL 494 744 \nQ 775 591 1075 516 \nQ 1375 441 1709 441 \nQ 2250 441 2565 725 \nQ 2881 1009 2881 1497 \nQ 2881 1984 2565 2268 \nQ 2250 2553 1709 2553 \nQ 1456 2553 1204 2497 \nQ 953 2441 691 2322 \nL 691 4666 \nz\n\" transform=\"scale(0.015625)\"/>\n       </defs>\n       <use xlink:href=\"#DejaVuSans-35\"/>\n      </g>\n     </g>\n    </g>\n    <g id=\"xtick_3\">\n     <g id=\"line2d_3\">\n      <g>\n       <use xlink:href=\"#m54fa8219fa\" x=\"108.465\" y=\"239.758125\" style=\"stroke: #000000; stroke-width: 0.8\"/>\n      </g>\n     </g>\n     <g id=\"text_3\">\n      <!-- 10 -->\n      <g transform=\"translate(102.1025 254.356563)scale(0.1 -0.1)\">\n       <defs>\n        <path id=\"DejaVuSans-31\" d=\"M 794 531 \nL 1825 531 \nL 1825 4091 \nL 703 3866 \nL 703 4441 \nL 1819 4666 \nL 2450 4666 \nL 2450 531 \nL 3481 531 \nL 3481 0 \nL 794 0 \nL 794 531 \nz\n\" transform=\"scale(0.015625)\"/>\n       </defs>\n       <use xlink:href=\"#DejaVuSans-31\"/>\n       <use xlink:href=\"#DejaVuSans-30\" x=\"63.623047\"/>\n      </g>\n     </g>\n    </g>\n    <g id=\"xtick_4\">\n     <g id=\"line2d_4\">\n      <g>\n       <use xlink:href=\"#m54fa8219fa\" x=\"147.293571\" y=\"239.758125\" style=\"stroke: #000000; stroke-width: 0.8\"/>\n      </g>\n     </g>\n     <g id=\"text_4\">\n      <!-- 15 -->\n      <g transform=\"translate(140.931071 254.356563)scale(0.1 -0.1)\">\n       <use xlink:href=\"#DejaVuSans-31\"/>\n       <use xlink:href=\"#DejaVuSans-35\" x=\"63.623047\"/>\n      </g>\n     </g>\n    </g>\n    <g id=\"xtick_5\">\n     <g id=\"line2d_5\">\n      <g>\n       <use xlink:href=\"#m54fa8219fa\" x=\"186.122143\" y=\"239.758125\" style=\"stroke: #000000; stroke-width: 0.8\"/>\n      </g>\n     </g>\n     <g id=\"text_5\">\n      <!-- 20 -->\n      <g transform=\"translate(179.759643 254.356563)scale(0.1 -0.1)\">\n       <defs>\n        <path id=\"DejaVuSans-32\" d=\"M 1228 531 \nL 3431 531 \nL 3431 0 \nL 469 0 \nL 469 531 \nQ 828 903 1448 1529 \nQ 2069 2156 2228 2338 \nQ 2531 2678 2651 2914 \nQ 2772 3150 2772 3378 \nQ 2772 3750 2511 3984 \nQ 2250 4219 1831 4219 \nQ 1534 4219 1204 4116 \nQ 875 4013 500 3803 \nL 500 4441 \nQ 881 4594 1212 4672 \nQ 1544 4750 1819 4750 \nQ 2544 4750 2975 4387 \nQ 3406 4025 3406 3419 \nQ 3406 3131 3298 2873 \nQ 3191 2616 2906 2266 \nQ 2828 2175 2409 1742 \nQ 1991 1309 1228 531 \nz\n\" transform=\"scale(0.015625)\"/>\n       </defs>\n       <use xlink:href=\"#DejaVuSans-32\"/>\n       <use xlink:href=\"#DejaVuSans-30\" x=\"63.623047\"/>\n      </g>\n     </g>\n    </g>\n    <g id=\"xtick_6\">\n     <g id=\"line2d_6\">\n      <g>\n       <use xlink:href=\"#m54fa8219fa\" x=\"224.950714\" y=\"239.758125\" style=\"stroke: #000000; stroke-width: 0.8\"/>\n      </g>\n     </g>\n     <g id=\"text_6\">\n      <!-- 25 -->\n      <g transform=\"translate(218.588214 254.356563)scale(0.1 -0.1)\">\n       <use xlink:href=\"#DejaVuSans-32\"/>\n       <use xlink:href=\"#DejaVuSans-35\" x=\"63.623047\"/>\n      </g>\n     </g>\n    </g>\n   </g>\n   <g id=\"matplotlib.axis_2\">\n    <g id=\"ytick_1\">\n     <g id=\"line2d_7\">\n      <defs>\n       <path id=\"m15d570daab\" d=\"M 0 0 \nL -3.5 0 \n\" style=\"stroke: #000000; stroke-width: 0.8\"/>\n      </defs>\n      <g>\n       <use xlink:href=\"#m15d570daab\" x=\"26.925\" y=\"26.200982\" style=\"stroke: #000000; stroke-width: 0.8\"/>\n      </g>\n     </g>\n     <g id=\"text_7\">\n      <!-- 0 -->\n      <g transform=\"translate(13.5625 30.000201)scale(0.1 -0.1)\">\n       <use xlink:href=\"#DejaVuSans-30\"/>\n      </g>\n     </g>\n    </g>\n    <g id=\"ytick_2\">\n     <g id=\"line2d_8\">\n      <g>\n       <use xlink:href=\"#m15d570daab\" x=\"26.925\" y=\"65.029554\" style=\"stroke: #000000; stroke-width: 0.8\"/>\n      </g>\n     </g>\n     <g id=\"text_8\">\n      <!-- 5 -->\n      <g transform=\"translate(13.5625 68.828772)scale(0.1 -0.1)\">\n       <use xlink:href=\"#DejaVuSans-35\"/>\n      </g>\n     </g>\n    </g>\n    <g id=\"ytick_3\">\n     <g id=\"line2d_9\">\n      <g>\n       <use xlink:href=\"#m15d570daab\" x=\"26.925\" y=\"103.858125\" style=\"stroke: #000000; stroke-width: 0.8\"/>\n      </g>\n     </g>\n     <g id=\"text_9\">\n      <!-- 10 -->\n      <g transform=\"translate(7.2 107.657344)scale(0.1 -0.1)\">\n       <use xlink:href=\"#DejaVuSans-31\"/>\n       <use xlink:href=\"#DejaVuSans-30\" x=\"63.623047\"/>\n      </g>\n     </g>\n    </g>\n    <g id=\"ytick_4\">\n     <g id=\"line2d_10\">\n      <g>\n       <use xlink:href=\"#m15d570daab\" x=\"26.925\" y=\"142.686696\" style=\"stroke: #000000; stroke-width: 0.8\"/>\n      </g>\n     </g>\n     <g id=\"text_10\">\n      <!-- 15 -->\n      <g transform=\"translate(7.2 146.485915)scale(0.1 -0.1)\">\n       <use xlink:href=\"#DejaVuSans-31\"/>\n       <use xlink:href=\"#DejaVuSans-35\" x=\"63.623047\"/>\n      </g>\n     </g>\n    </g>\n    <g id=\"ytick_5\">\n     <g id=\"line2d_11\">\n      <g>\n       <use xlink:href=\"#m15d570daab\" x=\"26.925\" y=\"181.515268\" style=\"stroke: #000000; stroke-width: 0.8\"/>\n      </g>\n     </g>\n     <g id=\"text_11\">\n      <!-- 20 -->\n      <g transform=\"translate(7.2 185.314487)scale(0.1 -0.1)\">\n       <use xlink:href=\"#DejaVuSans-32\"/>\n       <use xlink:href=\"#DejaVuSans-30\" x=\"63.623047\"/>\n      </g>\n     </g>\n    </g>\n    <g id=\"ytick_6\">\n     <g id=\"line2d_12\">\n      <g>\n       <use xlink:href=\"#m15d570daab\" x=\"26.925\" y=\"220.343839\" style=\"stroke: #000000; stroke-width: 0.8\"/>\n      </g>\n     </g>\n     <g id=\"text_12\">\n      <!-- 25 -->\n      <g transform=\"translate(7.2 224.143058)scale(0.1 -0.1)\">\n       <use xlink:href=\"#DejaVuSans-32\"/>\n       <use xlink:href=\"#DejaVuSans-35\" x=\"63.623047\"/>\n      </g>\n     </g>\n    </g>\n   </g>\n   <g id=\"patch_3\">\n    <path d=\"M 26.925 239.758125 \nL 26.925 22.318125 \n\" style=\"fill: none; stroke: #000000; stroke-width: 0.8; stroke-linejoin: miter; stroke-linecap: square\"/>\n   </g>\n   <g id=\"patch_4\">\n    <path d=\"M 244.365 239.758125 \nL 244.365 22.318125 \n\" style=\"fill: none; stroke: #000000; stroke-width: 0.8; stroke-linejoin: miter; stroke-linecap: square\"/>\n   </g>\n   <g id=\"patch_5\">\n    <path d=\"M 26.925 239.758125 \nL 244.365 239.758125 \n\" style=\"fill: none; stroke: #000000; stroke-width: 0.8; stroke-linejoin: miter; stroke-linecap: square\"/>\n   </g>\n   <g id=\"patch_6\">\n    <path d=\"M 26.925 22.318125 \nL 244.365 22.318125 \n\" style=\"fill: none; stroke: #000000; stroke-width: 0.8; stroke-linejoin: miter; stroke-linecap: square\"/>\n   </g>\n   <g id=\"text_13\">\n    <!-- T-shirt/top -->\n    <g transform=\"translate(105.095625 16.318125)scale(0.12 -0.12)\">\n     <defs>\n      <path id=\"DejaVuSans-54\" d=\"M -19 4666 \nL 3928 4666 \nL 3928 4134 \nL 2272 4134 \nL 2272 0 \nL 1638 0 \nL 1638 4134 \nL -19 4134 \nL -19 4666 \nz\n\" transform=\"scale(0.015625)\"/>\n      <path id=\"DejaVuSans-2d\" d=\"M 313 2009 \nL 1997 2009 \nL 1997 1497 \nL 313 1497 \nL 313 2009 \nz\n\" transform=\"scale(0.015625)\"/>\n      <path id=\"DejaVuSans-73\" d=\"M 2834 3397 \nL 2834 2853 \nQ 2591 2978 2328 3040 \nQ 2066 3103 1784 3103 \nQ 1356 3103 1142 2972 \nQ 928 2841 928 2578 \nQ 928 2378 1081 2264 \nQ 1234 2150 1697 2047 \nL 1894 2003 \nQ 2506 1872 2764 1633 \nQ 3022 1394 3022 966 \nQ 3022 478 2636 193 \nQ 2250 -91 1575 -91 \nQ 1294 -91 989 -36 \nQ 684 19 347 128 \nL 347 722 \nQ 666 556 975 473 \nQ 1284 391 1588 391 \nQ 1994 391 2212 530 \nQ 2431 669 2431 922 \nQ 2431 1156 2273 1281 \nQ 2116 1406 1581 1522 \nL 1381 1569 \nQ 847 1681 609 1914 \nQ 372 2147 372 2553 \nQ 372 3047 722 3315 \nQ 1072 3584 1716 3584 \nQ 2034 3584 2315 3537 \nQ 2597 3491 2834 3397 \nz\n\" transform=\"scale(0.015625)\"/>\n      <path id=\"DejaVuSans-68\" d=\"M 3513 2113 \nL 3513 0 \nL 2938 0 \nL 2938 2094 \nQ 2938 2591 2744 2837 \nQ 2550 3084 2163 3084 \nQ 1697 3084 1428 2787 \nQ 1159 2491 1159 1978 \nL 1159 0 \nL 581 0 \nL 581 4863 \nL 1159 4863 \nL 1159 2956 \nQ 1366 3272 1645 3428 \nQ 1925 3584 2291 3584 \nQ 2894 3584 3203 3211 \nQ 3513 2838 3513 2113 \nz\n\" transform=\"scale(0.015625)\"/>\n      <path id=\"DejaVuSans-69\" d=\"M 603 3500 \nL 1178 3500 \nL 1178 0 \nL 603 0 \nL 603 3500 \nz\nM 603 4863 \nL 1178 4863 \nL 1178 4134 \nL 603 4134 \nL 603 4863 \nz\n\" transform=\"scale(0.015625)\"/>\n      <path id=\"DejaVuSans-72\" d=\"M 2631 2963 \nQ 2534 3019 2420 3045 \nQ 2306 3072 2169 3072 \nQ 1681 3072 1420 2755 \nQ 1159 2438 1159 1844 \nL 1159 0 \nL 581 0 \nL 581 3500 \nL 1159 3500 \nL 1159 2956 \nQ 1341 3275 1631 3429 \nQ 1922 3584 2338 3584 \nQ 2397 3584 2469 3576 \nQ 2541 3569 2628 3553 \nL 2631 2963 \nz\n\" transform=\"scale(0.015625)\"/>\n      <path id=\"DejaVuSans-74\" d=\"M 1172 4494 \nL 1172 3500 \nL 2356 3500 \nL 2356 3053 \nL 1172 3053 \nL 1172 1153 \nQ 1172 725 1289 603 \nQ 1406 481 1766 481 \nL 2356 481 \nL 2356 0 \nL 1766 0 \nQ 1100 0 847 248 \nQ 594 497 594 1153 \nL 594 3053 \nL 172 3053 \nL 172 3500 \nL 594 3500 \nL 594 4494 \nL 1172 4494 \nz\n\" transform=\"scale(0.015625)\"/>\n      <path id=\"DejaVuSans-2f\" d=\"M 1625 4666 \nL 2156 4666 \nL 531 -594 \nL 0 -594 \nL 1625 4666 \nz\n\" transform=\"scale(0.015625)\"/>\n      <path id=\"DejaVuSans-6f\" d=\"M 1959 3097 \nQ 1497 3097 1228 2736 \nQ 959 2375 959 1747 \nQ 959 1119 1226 758 \nQ 1494 397 1959 397 \nQ 2419 397 2687 759 \nQ 2956 1122 2956 1747 \nQ 2956 2369 2687 2733 \nQ 2419 3097 1959 3097 \nz\nM 1959 3584 \nQ 2709 3584 3137 3096 \nQ 3566 2609 3566 1747 \nQ 3566 888 3137 398 \nQ 2709 -91 1959 -91 \nQ 1206 -91 779 398 \nQ 353 888 353 1747 \nQ 353 2609 779 3096 \nQ 1206 3584 1959 3584 \nz\n\" transform=\"scale(0.015625)\"/>\n      <path id=\"DejaVuSans-70\" d=\"M 1159 525 \nL 1159 -1331 \nL 581 -1331 \nL 581 3500 \nL 1159 3500 \nL 1159 2969 \nQ 1341 3281 1617 3432 \nQ 1894 3584 2278 3584 \nQ 2916 3584 3314 3078 \nQ 3713 2572 3713 1747 \nQ 3713 922 3314 415 \nQ 2916 -91 2278 -91 \nQ 1894 -91 1617 61 \nQ 1341 213 1159 525 \nz\nM 3116 1747 \nQ 3116 2381 2855 2742 \nQ 2594 3103 2138 3103 \nQ 1681 3103 1420 2742 \nQ 1159 2381 1159 1747 \nQ 1159 1113 1420 752 \nQ 1681 391 2138 391 \nQ 2594 391 2855 752 \nQ 3116 1113 3116 1747 \nz\n\" transform=\"scale(0.015625)\"/>\n     </defs>\n     <use xlink:href=\"#DejaVuSans-54\"/>\n     <use xlink:href=\"#DejaVuSans-2d\" x=\"51.958984\"/>\n     <use xlink:href=\"#DejaVuSans-73\" x=\"88.042969\"/>\n     <use xlink:href=\"#DejaVuSans-68\" x=\"140.142578\"/>\n     <use xlink:href=\"#DejaVuSans-69\" x=\"203.521484\"/>\n     <use xlink:href=\"#DejaVuSans-72\" x=\"231.304688\"/>\n     <use xlink:href=\"#DejaVuSans-74\" x=\"272.417969\"/>\n     <use xlink:href=\"#DejaVuSans-2f\" x=\"311.626953\"/>\n     <use xlink:href=\"#DejaVuSans-74\" x=\"345.318359\"/>\n     <use xlink:href=\"#DejaVuSans-6f\" x=\"384.527344\"/>\n     <use xlink:href=\"#DejaVuSans-70\" x=\"445.708984\"/>\n    </g>\n   </g>\n  </g>\n </g>\n <defs>\n  <clipPath id=\"p2425bf2e8e\">\n   <rect x=\"26.925\" y=\"22.318125\" width=\"217.44\" height=\"217.44\"/>\n  </clipPath>\n </defs>\n</svg>\n",
      "text/plain": [
       "<Figure size 432x288 with 1 Axes>"
      ]
     },
     "metadata": {
      "needs_background": "light"
     },
     "output_type": "display_data"
    }
   ],
   "source": [
    "# Show one of the images from the training dataset\n",
    "img_index = random.sample(range(x_train.shape[0]),1) \n",
    "img_label = int(str(*y_train[img_index]))\n",
    "\n",
    "plt.imshow(np.transpose(x_train[img_index],(1,2,0)))\n",
    "plt.title(DATA_DICT[img_label])\n",
    "plt.show()"
   ]
  },
  {
   "cell_type": "code",
   "execution_count": 9,
   "metadata": {},
   "outputs": [
    {
     "data": {
      "image/png": "[encoded data removed]",
      "image/svg+xml": "<?xml version=\"1.0\" encoding=\"utf-8\" standalone=\"no\"?>\n<!DOCTYPE svg PUBLIC \"-//W3C//DTD SVG 1.1//EN\"\n  \"http://www.w3.org/Graphics/SVG/1.1/DTD/svg11.dtd\">\n<svg xmlns:xlink=\"http://www.w3.org/1999/xlink\" width=\"251.565pt\" height=\"263.63625pt\" viewBox=\"0 0 251.565 263.63625\" xmlns=\"http://www.w3.org/2000/svg\" version=\"1.1\">\n <metadata>\n  <rdf:RDF xmlns:dc=\"http://purl.org/dc/elements/1.1/\" xmlns:cc=\"http://creativecommons.org/ns#\" xmlns:rdf=\"http://www.w3.org/1999/02/22-rdf-syntax-ns#\">\n   <cc:Work>\n    <dc:type rdf:resource=\"http://purl.org/dc/dcmitype/StillImage\"/>\n    <dc:date>2022-04-18T14:52:15.961616</dc:date>\n    <dc:format>image/svg+xml</dc:format>\n    <dc:creator>\n     <cc:Agent>\n      <dc:title>Matplotlib v3.5.1, https://matplotlib.org/</dc:title>\n     </cc:Agent>\n    </dc:creator>\n   </cc:Work>\n  </rdf:RDF>\n </metadata>\n <defs>\n  <style type=\"text/css\">*{stroke-linejoin: round; stroke-linecap: butt}</style>\n </defs>\n <g id=\"figure_1\">\n  <g id=\"patch_1\">\n   <path d=\"M 0 263.63625 \nL 251.565 263.63625 \nL 251.565 0 \nL 0 0 \nL 0 263.63625 \nz\n\" style=\"fill: none\"/>\n  </g>\n  <g id=\"axes_1\">\n   <g id=\"patch_2\">\n    <path d=\"M 26.925 239.758125 \nL 244.365 239.758125 \nL 244.365 22.318125 \nL 26.925 22.318125 \nz\n\" style=\"fill: #ffffff\"/>\n   </g>\n   <g clip-path=\"url(#p90c8857077)\">\n    <image xlink:href=\"data:image/png;base64,\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\" id=\"imageedf153faba\" transform=\"scale(1 -1)translate(0 -218)\" x=\"26.925\" y=\"-21.758125\" width=\"218\" height=\"218\"/>\n   </g>\n   <g id=\"matplotlib.axis_1\">\n    <g id=\"xtick_1\">\n     <g id=\"line2d_1\">\n      <defs>\n       <path id=\"m4ce181f643\" d=\"M 0 0 \nL 0 3.5 \n\" style=\"stroke: #000000; stroke-width: 0.8\"/>\n      </defs>\n      <g>\n       <use xlink:href=\"#m4ce181f643\" x=\"30.807857\" y=\"239.758125\" style=\"stroke: #000000; stroke-width: 0.8\"/>\n      </g>\n     </g>\n     <g id=\"text_1\">\n      <!-- 0 -->\n      <g transform=\"translate(27.626607 254.356563)scale(0.1 -0.1)\">\n       <defs>\n        <path id=\"DejaVuSans-30\" d=\"M 2034 4250 \nQ 1547 4250 1301 3770 \nQ 1056 3291 1056 2328 \nQ 1056 1369 1301 889 \nQ 1547 409 2034 409 \nQ 2525 409 2770 889 \nQ 3016 1369 3016 2328 \nQ 3016 3291 2770 3770 \nQ 2525 4250 2034 4250 \nz\nM 2034 4750 \nQ 2819 4750 3233 4129 \nQ 3647 3509 3647 2328 \nQ 3647 1150 3233 529 \nQ 2819 -91 2034 -91 \nQ 1250 -91 836 529 \nQ 422 1150 422 2328 \nQ 422 3509 836 4129 \nQ 1250 4750 2034 4750 \nz\n\" transform=\"scale(0.015625)\"/>\n       </defs>\n       <use xlink:href=\"#DejaVuSans-30\"/>\n      </g>\n     </g>\n    </g>\n    <g id=\"xtick_2\">\n     <g id=\"line2d_2\">\n      <g>\n       <use xlink:href=\"#m4ce181f643\" x=\"69.636429\" y=\"239.758125\" style=\"stroke: #000000; stroke-width: 0.8\"/>\n      </g>\n     </g>\n     <g id=\"text_2\">\n      <!-- 5 -->\n      <g transform=\"translate(66.455179 254.356563)scale(0.1 -0.1)\">\n       <defs>\n        <path id=\"DejaVuSans-35\" d=\"M 691 4666 \nL 3169 4666 \nL 3169 4134 \nL 1269 4134 \nL 1269 2991 \nQ 1406 3038 1543 3061 \nQ 1681 3084 1819 3084 \nQ 2600 3084 3056 2656 \nQ 3513 2228 3513 1497 \nQ 3513 744 3044 326 \nQ 2575 -91 1722 -91 \nQ 1428 -91 1123 -41 \nQ 819 9 494 109 \nL 494 744 \nQ 775 591 1075 516 \nQ 1375 441 1709 441 \nQ 2250 441 2565 725 \nQ 2881 1009 2881 1497 \nQ 2881 1984 2565 2268 \nQ 2250 2553 1709 2553 \nQ 1456 2553 1204 2497 \nQ 953 2441 691 2322 \nL 691 4666 \nz\n\" transform=\"scale(0.015625)\"/>\n       </defs>\n       <use xlink:href=\"#DejaVuSans-35\"/>\n      </g>\n     </g>\n    </g>\n    <g id=\"xtick_3\">\n     <g id=\"line2d_3\">\n      <g>\n       <use xlink:href=\"#m4ce181f643\" x=\"108.465\" y=\"239.758125\" style=\"stroke: #000000; stroke-width: 0.8\"/>\n      </g>\n     </g>\n     <g id=\"text_3\">\n      <!-- 10 -->\n      <g transform=\"translate(102.1025 254.356563)scale(0.1 -0.1)\">\n       <defs>\n        <path id=\"DejaVuSans-31\" d=\"M 794 531 \nL 1825 531 \nL 1825 4091 \nL 703 3866 \nL 703 4441 \nL 1819 4666 \nL 2450 4666 \nL 2450 531 \nL 3481 531 \nL 3481 0 \nL 794 0 \nL 794 531 \nz\n\" transform=\"scale(0.015625)\"/>\n       </defs>\n       <use xlink:href=\"#DejaVuSans-31\"/>\n       <use xlink:href=\"#DejaVuSans-30\" x=\"63.623047\"/>\n      </g>\n     </g>\n    </g>\n    <g id=\"xtick_4\">\n     <g id=\"line2d_4\">\n      <g>\n       <use xlink:href=\"#m4ce181f643\" x=\"147.293571\" y=\"239.758125\" style=\"stroke: #000000; stroke-width: 0.8\"/>\n      </g>\n     </g>\n     <g id=\"text_4\">\n      <!-- 15 -->\n      <g transform=\"translate(140.931071 254.356563)scale(0.1 -0.1)\">\n       <use xlink:href=\"#DejaVuSans-31\"/>\n       <use xlink:href=\"#DejaVuSans-35\" x=\"63.623047\"/>\n      </g>\n     </g>\n    </g>\n    <g id=\"xtick_5\">\n     <g id=\"line2d_5\">\n      <g>\n       <use xlink:href=\"#m4ce181f643\" x=\"186.122143\" y=\"239.758125\" style=\"stroke: #000000; stroke-width: 0.8\"/>\n      </g>\n     </g>\n     <g id=\"text_5\">\n      <!-- 20 -->\n      <g transform=\"translate(179.759643 254.356563)scale(0.1 -0.1)\">\n       <defs>\n        <path id=\"DejaVuSans-32\" d=\"M 1228 531 \nL 3431 531 \nL 3431 0 \nL 469 0 \nL 469 531 \nQ 828 903 1448 1529 \nQ 2069 2156 2228 2338 \nQ 2531 2678 2651 2914 \nQ 2772 3150 2772 3378 \nQ 2772 3750 2511 3984 \nQ 2250 4219 1831 4219 \nQ 1534 4219 1204 4116 \nQ 875 4013 500 3803 \nL 500 4441 \nQ 881 4594 1212 4672 \nQ 1544 4750 1819 4750 \nQ 2544 4750 2975 4387 \nQ 3406 4025 3406 3419 \nQ 3406 3131 3298 2873 \nQ 3191 2616 2906 2266 \nQ 2828 2175 2409 1742 \nQ 1991 1309 1228 531 \nz\n\" transform=\"scale(0.015625)\"/>\n       </defs>\n       <use xlink:href=\"#DejaVuSans-32\"/>\n       <use xlink:href=\"#DejaVuSans-30\" x=\"63.623047\"/>\n      </g>\n     </g>\n    </g>\n    <g id=\"xtick_6\">\n     <g id=\"line2d_6\">\n      <g>\n       <use xlink:href=\"#m4ce181f643\" x=\"224.950714\" y=\"239.758125\" style=\"stroke: #000000; stroke-width: 0.8\"/>\n      </g>\n     </g>\n     <g id=\"text_6\">\n      <!-- 25 -->\n      <g transform=\"translate(218.588214 254.356563)scale(0.1 -0.1)\">\n       <use xlink:href=\"#DejaVuSans-32\"/>\n       <use xlink:href=\"#DejaVuSans-35\" x=\"63.623047\"/>\n      </g>\n     </g>\n    </g>\n   </g>\n   <g id=\"matplotlib.axis_2\">\n    <g id=\"ytick_1\">\n     <g id=\"line2d_7\">\n      <defs>\n       <path id=\"m5a05632f26\" d=\"M 0 0 \nL -3.5 0 \n\" style=\"stroke: #000000; stroke-width: 0.8\"/>\n      </defs>\n      <g>\n       <use xlink:href=\"#m5a05632f26\" x=\"26.925\" y=\"26.200982\" style=\"stroke: #000000; stroke-width: 0.8\"/>\n      </g>\n     </g>\n     <g id=\"text_7\">\n      <!-- 0 -->\n      <g transform=\"translate(13.5625 30.000201)scale(0.1 -0.1)\">\n       <use xlink:href=\"#DejaVuSans-30\"/>\n      </g>\n     </g>\n    </g>\n    <g id=\"ytick_2\">\n     <g id=\"line2d_8\">\n      <g>\n       <use xlink:href=\"#m5a05632f26\" x=\"26.925\" y=\"65.029554\" style=\"stroke: #000000; stroke-width: 0.8\"/>\n      </g>\n     </g>\n     <g id=\"text_8\">\n      <!-- 5 -->\n      <g transform=\"translate(13.5625 68.828772)scale(0.1 -0.1)\">\n       <use xlink:href=\"#DejaVuSans-35\"/>\n      </g>\n     </g>\n    </g>\n    <g id=\"ytick_3\">\n     <g id=\"line2d_9\">\n      <g>\n       <use xlink:href=\"#m5a05632f26\" x=\"26.925\" y=\"103.858125\" style=\"stroke: #000000; stroke-width: 0.8\"/>\n      </g>\n     </g>\n     <g id=\"text_9\">\n      <!-- 10 -->\n      <g transform=\"translate(7.2 107.657344)scale(0.1 -0.1)\">\n       <use xlink:href=\"#DejaVuSans-31\"/>\n       <use xlink:href=\"#DejaVuSans-30\" x=\"63.623047\"/>\n      </g>\n     </g>\n    </g>\n    <g id=\"ytick_4\">\n     <g id=\"line2d_10\">\n      <g>\n       <use xlink:href=\"#m5a05632f26\" x=\"26.925\" y=\"142.686696\" style=\"stroke: #000000; stroke-width: 0.8\"/>\n      </g>\n     </g>\n     <g id=\"text_10\">\n      <!-- 15 -->\n      <g transform=\"translate(7.2 146.485915)scale(0.1 -0.1)\">\n       <use xlink:href=\"#DejaVuSans-31\"/>\n       <use xlink:href=\"#DejaVuSans-35\" x=\"63.623047\"/>\n      </g>\n     </g>\n    </g>\n    <g id=\"ytick_5\">\n     <g id=\"line2d_11\">\n      <g>\n       <use xlink:href=\"#m5a05632f26\" x=\"26.925\" y=\"181.515268\" style=\"stroke: #000000; stroke-width: 0.8\"/>\n      </g>\n     </g>\n     <g id=\"text_11\">\n      <!-- 20 -->\n      <g transform=\"translate(7.2 185.314487)scale(0.1 -0.1)\">\n       <use xlink:href=\"#DejaVuSans-32\"/>\n       <use xlink:href=\"#DejaVuSans-30\" x=\"63.623047\"/>\n      </g>\n     </g>\n    </g>\n    <g id=\"ytick_6\">\n     <g id=\"line2d_12\">\n      <g>\n       <use xlink:href=\"#m5a05632f26\" x=\"26.925\" y=\"220.343839\" style=\"stroke: #000000; stroke-width: 0.8\"/>\n      </g>\n     </g>\n     <g id=\"text_12\">\n      <!-- 25 -->\n      <g transform=\"translate(7.2 224.143058)scale(0.1 -0.1)\">\n       <use xlink:href=\"#DejaVuSans-32\"/>\n       <use xlink:href=\"#DejaVuSans-35\" x=\"63.623047\"/>\n      </g>\n     </g>\n    </g>\n   </g>\n   <g id=\"patch_3\">\n    <path d=\"M 26.925 239.758125 \nL 26.925 22.318125 \n\" style=\"fill: none; stroke: #000000; stroke-width: 0.8; stroke-linejoin: miter; stroke-linecap: square\"/>\n   </g>\n   <g id=\"patch_4\">\n    <path d=\"M 244.365 239.758125 \nL 244.365 22.318125 \n\" style=\"fill: none; stroke: #000000; stroke-width: 0.8; stroke-linejoin: miter; stroke-linecap: square\"/>\n   </g>\n   <g id=\"patch_5\">\n    <path d=\"M 26.925 239.758125 \nL 244.365 239.758125 \n\" style=\"fill: none; stroke: #000000; stroke-width: 0.8; stroke-linejoin: miter; stroke-linecap: square\"/>\n   </g>\n   <g id=\"patch_6\">\n    <path d=\"M 26.925 22.318125 \nL 244.365 22.318125 \n\" style=\"fill: none; stroke: #000000; stroke-width: 0.8; stroke-linejoin: miter; stroke-linecap: square\"/>\n   </g>\n   <g id=\"text_13\">\n    <!-- T-shirt/top -->\n    <g transform=\"translate(105.095625 16.318125)scale(0.12 -0.12)\">\n     <defs>\n      <path id=\"DejaVuSans-54\" d=\"M -19 4666 \nL 3928 4666 \nL 3928 4134 \nL 2272 4134 \nL 2272 0 \nL 1638 0 \nL 1638 4134 \nL -19 4134 \nL -19 4666 \nz\n\" transform=\"scale(0.015625)\"/>\n      <path id=\"DejaVuSans-2d\" d=\"M 313 2009 \nL 1997 2009 \nL 1997 1497 \nL 313 1497 \nL 313 2009 \nz\n\" transform=\"scale(0.015625)\"/>\n      <path id=\"DejaVuSans-73\" d=\"M 2834 3397 \nL 2834 2853 \nQ 2591 2978 2328 3040 \nQ 2066 3103 1784 3103 \nQ 1356 3103 1142 2972 \nQ 928 2841 928 2578 \nQ 928 2378 1081 2264 \nQ 1234 2150 1697 2047 \nL 1894 2003 \nQ 2506 1872 2764 1633 \nQ 3022 1394 3022 966 \nQ 3022 478 2636 193 \nQ 2250 -91 1575 -91 \nQ 1294 -91 989 -36 \nQ 684 19 347 128 \nL 347 722 \nQ 666 556 975 473 \nQ 1284 391 1588 391 \nQ 1994 391 2212 530 \nQ 2431 669 2431 922 \nQ 2431 1156 2273 1281 \nQ 2116 1406 1581 1522 \nL 1381 1569 \nQ 847 1681 609 1914 \nQ 372 2147 372 2553 \nQ 372 3047 722 3315 \nQ 1072 3584 1716 3584 \nQ 2034 3584 2315 3537 \nQ 2597 3491 2834 3397 \nz\n\" transform=\"scale(0.015625)\"/>\n      <path id=\"DejaVuSans-68\" d=\"M 3513 2113 \nL 3513 0 \nL 2938 0 \nL 2938 2094 \nQ 2938 2591 2744 2837 \nQ 2550 3084 2163 3084 \nQ 1697 3084 1428 2787 \nQ 1159 2491 1159 1978 \nL 1159 0 \nL 581 0 \nL 581 4863 \nL 1159 4863 \nL 1159 2956 \nQ 1366 3272 1645 3428 \nQ 1925 3584 2291 3584 \nQ 2894 3584 3203 3211 \nQ 3513 2838 3513 2113 \nz\n\" transform=\"scale(0.015625)\"/>\n      <path id=\"DejaVuSans-69\" d=\"M 603 3500 \nL 1178 3500 \nL 1178 0 \nL 603 0 \nL 603 3500 \nz\nM 603 4863 \nL 1178 4863 \nL 1178 4134 \nL 603 4134 \nL 603 4863 \nz\n\" transform=\"scale(0.015625)\"/>\n      <path id=\"DejaVuSans-72\" d=\"M 2631 2963 \nQ 2534 3019 2420 3045 \nQ 2306 3072 2169 3072 \nQ 1681 3072 1420 2755 \nQ 1159 2438 1159 1844 \nL 1159 0 \nL 581 0 \nL 581 3500 \nL 1159 3500 \nL 1159 2956 \nQ 1341 3275 1631 3429 \nQ 1922 3584 2338 3584 \nQ 2397 3584 2469 3576 \nQ 2541 3569 2628 3553 \nL 2631 2963 \nz\n\" transform=\"scale(0.015625)\"/>\n      <path id=\"DejaVuSans-74\" d=\"M 1172 4494 \nL 1172 3500 \nL 2356 3500 \nL 2356 3053 \nL 1172 3053 \nL 1172 1153 \nQ 1172 725 1289 603 \nQ 1406 481 1766 481 \nL 2356 481 \nL 2356 0 \nL 1766 0 \nQ 1100 0 847 248 \nQ 594 497 594 1153 \nL 594 3053 \nL 172 3053 \nL 172 3500 \nL 594 3500 \nL 594 4494 \nL 1172 4494 \nz\n\" transform=\"scale(0.015625)\"/>\n      <path id=\"DejaVuSans-2f\" d=\"M 1625 4666 \nL 2156 4666 \nL 531 -594 \nL 0 -594 \nL 1625 4666 \nz\n\" transform=\"scale(0.015625)\"/>\n      <path id=\"DejaVuSans-6f\" d=\"M 1959 3097 \nQ 1497 3097 1228 2736 \nQ 959 2375 959 1747 \nQ 959 1119 1226 758 \nQ 1494 397 1959 397 \nQ 2419 397 2687 759 \nQ 2956 1122 2956 1747 \nQ 2956 2369 2687 2733 \nQ 2419 3097 1959 3097 \nz\nM 1959 3584 \nQ 2709 3584 3137 3096 \nQ 3566 2609 3566 1747 \nQ 3566 888 3137 398 \nQ 2709 -91 1959 -91 \nQ 1206 -91 779 398 \nQ 353 888 353 1747 \nQ 353 2609 779 3096 \nQ 1206 3584 1959 3584 \nz\n\" transform=\"scale(0.015625)\"/>\n      <path id=\"DejaVuSans-70\" d=\"M 1159 525 \nL 1159 -1331 \nL 581 -1331 \nL 581 3500 \nL 1159 3500 \nL 1159 2969 \nQ 1341 3281 1617 3432 \nQ 1894 3584 2278 3584 \nQ 2916 3584 3314 3078 \nQ 3713 2572 3713 1747 \nQ 3713 922 3314 415 \nQ 2916 -91 2278 -91 \nQ 1894 -91 1617 61 \nQ 1341 213 1159 525 \nz\nM 3116 1747 \nQ 3116 2381 2855 2742 \nQ 2594 3103 2138 3103 \nQ 1681 3103 1420 2742 \nQ 1159 2381 1159 1747 \nQ 1159 1113 1420 752 \nQ 1681 391 2138 391 \nQ 2594 391 2855 752 \nQ 3116 1113 3116 1747 \nz\n\" transform=\"scale(0.015625)\"/>\n     </defs>\n     <use xlink:href=\"#DejaVuSans-54\"/>\n     <use xlink:href=\"#DejaVuSans-2d\" x=\"51.958984\"/>\n     <use xlink:href=\"#DejaVuSans-73\" x=\"88.042969\"/>\n     <use xlink:href=\"#DejaVuSans-68\" x=\"140.142578\"/>\n     <use xlink:href=\"#DejaVuSans-69\" x=\"203.521484\"/>\n     <use xlink:href=\"#DejaVuSans-72\" x=\"231.304688\"/>\n     <use xlink:href=\"#DejaVuSans-74\" x=\"272.417969\"/>\n     <use xlink:href=\"#DejaVuSans-2f\" x=\"311.626953\"/>\n     <use xlink:href=\"#DejaVuSans-74\" x=\"345.318359\"/>\n     <use xlink:href=\"#DejaVuSans-6f\" x=\"384.527344\"/>\n     <use xlink:href=\"#DejaVuSans-70\" x=\"445.708984\"/>\n    </g>\n   </g>\n  </g>\n </g>\n <defs>\n  <clipPath id=\"p90c8857077\">\n   <rect x=\"26.925\" y=\"22.318125\" width=\"217.44\" height=\"217.44\"/>\n  </clipPath>\n </defs>\n</svg>\n",
      "text/plain": [
       "<Figure size 432x288 with 1 Axes>"
      ]
     },
     "metadata": {
      "needs_background": "light"
     },
     "output_type": "display_data"
    }
   ],
   "source": [
    "# Show one of the images from the training dataset\n",
    "img_index = random.sample(range(x_test.shape[0]),1) \n",
    "img_label = int(str(*y_test[img_index]))\n",
    "\n",
    "plt.imshow(np.transpose(x_test[img_index],(1,2,0)))\n",
    "plt.title(DATA_DICT[img_label])\n",
    "plt.show()"
   ]
  },
  {
   "cell_type": "code",
   "execution_count": 10,
   "metadata": {},
   "outputs": [],
   "source": [
    "def create_model():\n",
    "  model = tf.keras.Sequential()\n",
    "  # Must define the input shape in the first layer of the neural network\n",
    "  model.add(tf.keras.layers.Conv2D(filters=64, kernel_size=2, padding='same', activation='relu', input_shape=(28,28,1))) \n",
    "  model.add(tf.keras.layers.MaxPooling2D(pool_size=2))\n",
    "  model.add(tf.keras.layers.Dropout(0.3))\n",
    "  model.add(tf.keras.layers.Conv2D(filters=32, kernel_size=2, padding='same', activation='relu'))\n",
    "  model.add(tf.keras.layers.MaxPooling2D(pool_size=2))\n",
    "  model.add(tf.keras.layers.Dropout(0.3))\n",
    "  model.add(tf.keras.layers.Flatten())\n",
    "  model.add(tf.keras.layers.Dense(256, activation='relu')),\n",
    "  model.add(tf.keras.layers.Dropout(0.5)),\n",
    "  model.add(tf.keras.layers.Dense(10, activation='softmax'))\n",
    "  # Take a look at the model summary\n",
    "  model.summary()\n",
    "  return model\n",
    "  # return tf.keras.models.Sequential([\n",
    "  #   tf.keras.layers.Flatten(input_shape=(28, 28)),\n",
    "  #   tf.keras.layers.Dense(512, activation='relu'),\n",
    "  #   tf.keras.layers.Dropout(0.1),\n",
    "  #   tf.keras.layers.Dense(10, activation='softmax')\n",
    "  # ])"
   ]
  },
  {
   "cell_type": "code",
   "execution_count": 11,
   "metadata": {},
   "outputs": [
    {
     "name": "stdout",
     "output_type": "stream",
     "text": [
      "Model: \"sequential\"\n",
      "_________________________________________________________________\n",
      " Layer (type)                Output Shape              Param #   \n",
      "=================================================================\n",
      " conv2d (Conv2D)             (None, 28, 28, 64)        320       \n",
      "                                                                 \n",
      " max_pooling2d (MaxPooling2D  (None, 14, 14, 64)       0         \n",
      " )                                                               \n",
      "                                                                 \n",
      " dropout (Dropout)           (None, 14, 14, 64)        0         \n",
      "                                                                 \n",
      " conv2d_1 (Conv2D)           (None, 14, 14, 32)        8224      \n",
      "                                                                 \n",
      " max_pooling2d_1 (MaxPooling  (None, 7, 7, 32)         0         \n",
      " 2D)                                                             \n",
      "                                                                 \n",
      " dropout_1 (Dropout)         (None, 7, 7, 32)          0         \n",
      "                                                                 \n",
      " flatten (Flatten)           (None, 1568)              0         \n",
      "                                                                 \n",
      " dense (Dense)               (None, 256)               401664    \n",
      "                                                                 \n",
      " dropout_2 (Dropout)         (None, 256)               0         \n",
      "                                                                 \n",
      " dense_1 (Dense)             (None, 10)                2570      \n",
      "                                                                 \n",
      "=================================================================\n",
      "Total params: 412,778\n",
      "Trainable params: 412,778\n",
      "Non-trainable params: 0\n",
      "_________________________________________________________________\n",
      "Epoch 1/100\n",
      "469/469 [==============================] - 8s 5ms/step - loss: 0.6463 - accuracy: 0.7601 - val_loss: 0.4144 - val_accuracy: 0.8519\n",
      "Epoch 2/100\n",
      "469/469 [==============================] - 2s 4ms/step - loss: 0.4304 - accuracy: 0.8434 - val_loss: 0.3557 - val_accuracy: 0.8710\n",
      "Epoch 3/100\n",
      "469/469 [==============================] - 2s 4ms/step - loss: 0.3848 - accuracy: 0.8600 - val_loss: 0.3253 - val_accuracy: 0.8808\n",
      "Epoch 4/100\n",
      "469/469 [==============================] - 2s 4ms/step - loss: 0.3568 - accuracy: 0.8694 - val_loss: 0.3096 - val_accuracy: 0.8855\n",
      "Epoch 5/100\n",
      "469/469 [==============================] - 2s 4ms/step - loss: 0.3380 - accuracy: 0.8763 - val_loss: 0.2868 - val_accuracy: 0.8942\n",
      "Epoch 6/100\n",
      "469/469 [==============================] - 2s 4ms/step - loss: 0.3199 - accuracy: 0.8847 - val_loss: 0.2848 - val_accuracy: 0.8954\n",
      "Epoch 7/100\n",
      "469/469 [==============================] - 2s 4ms/step - loss: 0.3089 - accuracy: 0.8866 - val_loss: 0.2688 - val_accuracy: 0.9016\n",
      "Epoch 8/100\n",
      "469/469 [==============================] - 2s 4ms/step - loss: 0.2988 - accuracy: 0.8909 - val_loss: 0.2619 - val_accuracy: 0.9053\n",
      "Epoch 9/100\n",
      "469/469 [==============================] - 2s 4ms/step - loss: 0.2884 - accuracy: 0.8953 - val_loss: 0.2563 - val_accuracy: 0.9057\n",
      "Epoch 10/100\n",
      "469/469 [==============================] - 2s 4ms/step - loss: 0.2801 - accuracy: 0.8972 - val_loss: 0.2592 - val_accuracy: 0.9041\n",
      "Epoch 11/100\n",
      "469/469 [==============================] - 2s 4ms/step - loss: 0.2722 - accuracy: 0.8990 - val_loss: 0.2621 - val_accuracy: 0.9019\n",
      "Epoch 12/100\n",
      "469/469 [==============================] - 2s 4ms/step - loss: 0.2648 - accuracy: 0.9022 - val_loss: 0.2415 - val_accuracy: 0.9121\n",
      "Epoch 13/100\n",
      "469/469 [==============================] - 2s 4ms/step - loss: 0.2599 - accuracy: 0.9033 - val_loss: 0.2394 - val_accuracy: 0.9106\n",
      "Epoch 14/100\n",
      "469/469 [==============================] - 2s 4ms/step - loss: 0.2520 - accuracy: 0.9056 - val_loss: 0.2378 - val_accuracy: 0.9128\n",
      "Epoch 15/100\n",
      "469/469 [==============================] - 2s 4ms/step - loss: 0.2515 - accuracy: 0.9070 - val_loss: 0.2644 - val_accuracy: 0.9012\n",
      "Epoch 16/100\n",
      "469/469 [==============================] - 2s 4ms/step - loss: 0.2440 - accuracy: 0.9100 - val_loss: 0.2321 - val_accuracy: 0.9152\n",
      "Epoch 17/100\n",
      "469/469 [==============================] - 2s 4ms/step - loss: 0.2393 - accuracy: 0.9110 - val_loss: 0.2326 - val_accuracy: 0.9149\n",
      "Epoch 18/100\n",
      "469/469 [==============================] - 2s 4ms/step - loss: 0.2346 - accuracy: 0.9136 - val_loss: 0.2255 - val_accuracy: 0.9187\n",
      "Epoch 19/100\n",
      "469/469 [==============================] - 2s 4ms/step - loss: 0.2320 - accuracy: 0.9138 - val_loss: 0.2250 - val_accuracy: 0.9179\n",
      "Epoch 20/100\n",
      "469/469 [==============================] - 2s 4ms/step - loss: 0.2258 - accuracy: 0.9160 - val_loss: 0.2215 - val_accuracy: 0.9201\n",
      "Epoch 21/100\n",
      "469/469 [==============================] - 2s 4ms/step - loss: 0.2265 - accuracy: 0.9153 - val_loss: 0.2172 - val_accuracy: 0.9212\n",
      "Epoch 22/100\n",
      "469/469 [==============================] - 2s 4ms/step - loss: 0.2193 - accuracy: 0.9173 - val_loss: 0.2182 - val_accuracy: 0.9211\n",
      "Epoch 23/100\n",
      "469/469 [==============================] - 2s 4ms/step - loss: 0.2189 - accuracy: 0.9188 - val_loss: 0.2213 - val_accuracy: 0.9207\n",
      "Epoch 24/100\n",
      "469/469 [==============================] - 2s 4ms/step - loss: 0.2164 - accuracy: 0.9192 - val_loss: 0.2213 - val_accuracy: 0.9200\n",
      "Epoch 25/100\n",
      "469/469 [==============================] - 2s 4ms/step - loss: 0.2117 - accuracy: 0.9203 - val_loss: 0.2213 - val_accuracy: 0.9207\n",
      "Epoch 26/100\n",
      "469/469 [==============================] - 2s 4ms/step - loss: 0.2101 - accuracy: 0.9215 - val_loss: 0.2164 - val_accuracy: 0.9212\n",
      "Epoch 27/100\n",
      "469/469 [==============================] - 2s 4ms/step - loss: 0.2070 - accuracy: 0.9226 - val_loss: 0.2156 - val_accuracy: 0.9218\n",
      "Epoch 28/100\n",
      "469/469 [==============================] - 2s 4ms/step - loss: 0.2078 - accuracy: 0.9228 - val_loss: 0.2177 - val_accuracy: 0.9215\n",
      "Epoch 29/100\n",
      "469/469 [==============================] - 2s 4ms/step - loss: 0.2042 - accuracy: 0.9247 - val_loss: 0.2209 - val_accuracy: 0.9223\n",
      "Epoch 30/100\n",
      "469/469 [==============================] - 2s 4ms/step - loss: 0.1998 - accuracy: 0.9254 - val_loss: 0.2124 - val_accuracy: 0.9249\n",
      "Epoch 31/100\n",
      "469/469 [==============================] - 2s 4ms/step - loss: 0.2009 - accuracy: 0.9248 - val_loss: 0.2151 - val_accuracy: 0.9240\n",
      "Epoch 32/100\n",
      "469/469 [==============================] - 2s 4ms/step - loss: 0.1965 - accuracy: 0.9262 - val_loss: 0.2153 - val_accuracy: 0.9226\n",
      "Epoch 33/100\n",
      "469/469 [==============================] - 2s 4ms/step - loss: 0.1950 - accuracy: 0.9266 - val_loss: 0.2255 - val_accuracy: 0.9196\n",
      "Epoch 34/100\n",
      "469/469 [==============================] - 2s 4ms/step - loss: 0.1941 - accuracy: 0.9269 - val_loss: 0.2116 - val_accuracy: 0.9263\n",
      "Epoch 35/100\n",
      "469/469 [==============================] - 2s 4ms/step - loss: 0.1907 - accuracy: 0.9279 - val_loss: 0.2147 - val_accuracy: 0.9253\n",
      "Epoch 36/100\n",
      "469/469 [==============================] - 2s 4ms/step - loss: 0.1923 - accuracy: 0.9281 - val_loss: 0.2186 - val_accuracy: 0.9217\n",
      "Epoch 37/100\n",
      "469/469 [==============================] - 2s 4ms/step - loss: 0.1878 - accuracy: 0.9290 - val_loss: 0.2110 - val_accuracy: 0.9257\n",
      "Epoch 38/100\n",
      "469/469 [==============================] - 2s 4ms/step - loss: 0.1878 - accuracy: 0.9296 - val_loss: 0.2097 - val_accuracy: 0.9277\n",
      "Epoch 39/100\n",
      "469/469 [==============================] - 2s 4ms/step - loss: 0.1854 - accuracy: 0.9303 - val_loss: 0.2099 - val_accuracy: 0.9263\n",
      "Epoch 40/100\n",
      "469/469 [==============================] - 2s 4ms/step - loss: 0.1852 - accuracy: 0.9301 - val_loss: 0.2115 - val_accuracy: 0.9267\n",
      "Epoch 41/100\n",
      "469/469 [==============================] - 2s 4ms/step - loss: 0.1835 - accuracy: 0.9303 - val_loss: 0.2106 - val_accuracy: 0.9277\n",
      "Epoch 42/100\n",
      "469/469 [==============================] - 2s 4ms/step - loss: 0.1826 - accuracy: 0.9310 - val_loss: 0.2170 - val_accuracy: 0.9220\n",
      "Epoch 43/100\n",
      "469/469 [==============================] - 2s 4ms/step - loss: 0.1844 - accuracy: 0.9308 - val_loss: 0.2096 - val_accuracy: 0.9273\n",
      "Epoch 44/100\n",
      "469/469 [==============================] - 2s 4ms/step - loss: 0.1787 - accuracy: 0.9319 - val_loss: 0.2098 - val_accuracy: 0.9274\n",
      "Epoch 45/100\n",
      "469/469 [==============================] - 2s 4ms/step - loss: 0.1788 - accuracy: 0.9341 - val_loss: 0.2189 - val_accuracy: 0.9242\n",
      "Epoch 46/100\n",
      "469/469 [==============================] - 2s 4ms/step - loss: 0.1738 - accuracy: 0.9347 - val_loss: 0.2143 - val_accuracy: 0.9264\n",
      "Epoch 47/100\n",
      "469/469 [==============================] - 2s 4ms/step - loss: 0.1748 - accuracy: 0.9329 - val_loss: 0.2141 - val_accuracy: 0.9257\n",
      "Epoch 48/100\n",
      "469/469 [==============================] - 2s 4ms/step - loss: 0.1772 - accuracy: 0.9330 - val_loss: 0.2144 - val_accuracy: 0.9268\n",
      "Epoch 49/100\n",
      "469/469 [==============================] - 2s 4ms/step - loss: 0.1736 - accuracy: 0.9343 - val_loss: 0.2115 - val_accuracy: 0.9277\n",
      "Epoch 50/100\n",
      "469/469 [==============================] - 2s 4ms/step - loss: 0.1732 - accuracy: 0.9340 - val_loss: 0.2102 - val_accuracy: 0.9294\n",
      "Epoch 51/100\n",
      "469/469 [==============================] - 2s 4ms/step - loss: 0.1699 - accuracy: 0.9358 - val_loss: 0.2191 - val_accuracy: 0.9250\n",
      "Epoch 52/100\n",
      "469/469 [==============================] - 2s 4ms/step - loss: 0.1702 - accuracy: 0.9347 - val_loss: 0.2176 - val_accuracy: 0.9251\n",
      "Epoch 53/100\n",
      "469/469 [==============================] - 2s 4ms/step - loss: 0.1743 - accuracy: 0.9348 - val_loss: 0.2111 - val_accuracy: 0.9276\n",
      "Epoch 54/100\n",
      "469/469 [==============================] - 2s 4ms/step - loss: 0.1720 - accuracy: 0.9351 - val_loss: 0.2098 - val_accuracy: 0.9280\n",
      "Epoch 55/100\n",
      "469/469 [==============================] - 2s 4ms/step - loss: 0.1631 - accuracy: 0.9388 - val_loss: 0.2187 - val_accuracy: 0.9254\n",
      "Epoch 56/100\n",
      "469/469 [==============================] - 2s 4ms/step - loss: 0.1685 - accuracy: 0.9364 - val_loss: 0.2228 - val_accuracy: 0.9230\n",
      "Epoch 57/100\n",
      "469/469 [==============================] - 2s 4ms/step - loss: 0.1649 - accuracy: 0.9378 - val_loss: 0.2193 - val_accuracy: 0.9266\n",
      "Epoch 58/100\n",
      "469/469 [==============================] - 2s 4ms/step - loss: 0.1667 - accuracy: 0.9371 - val_loss: 0.2185 - val_accuracy: 0.9266\n",
      "Epoch 59/100\n",
      "469/469 [==============================] - 2s 4ms/step - loss: 0.1655 - accuracy: 0.9376 - val_loss: 0.2224 - val_accuracy: 0.9209\n",
      "Epoch 60/100\n",
      "469/469 [==============================] - 2s 4ms/step - loss: 0.1667 - accuracy: 0.9360 - val_loss: 0.2168 - val_accuracy: 0.9266\n",
      "Epoch 61/100\n",
      "469/469 [==============================] - 2s 4ms/step - loss: 0.1596 - accuracy: 0.9376 - val_loss: 0.2155 - val_accuracy: 0.9267\n",
      "Epoch 62/100\n",
      "469/469 [==============================] - 2s 4ms/step - loss: 0.1617 - accuracy: 0.9384 - val_loss: 0.2209 - val_accuracy: 0.9248\n",
      "Epoch 63/100\n",
      "469/469 [==============================] - 2s 4ms/step - loss: 0.1619 - accuracy: 0.9384 - val_loss: 0.2106 - val_accuracy: 0.9284\n",
      "Epoch 64/100\n",
      "469/469 [==============================] - 2s 4ms/step - loss: 0.1623 - accuracy: 0.9388 - val_loss: 0.2111 - val_accuracy: 0.9281\n",
      "Epoch 65/100\n",
      "469/469 [==============================] - 2s 4ms/step - loss: 0.1611 - accuracy: 0.9395 - val_loss: 0.2124 - val_accuracy: 0.9281\n",
      "Epoch 66/100\n",
      "469/469 [==============================] - 2s 4ms/step - loss: 0.1591 - accuracy: 0.9389 - val_loss: 0.2147 - val_accuracy: 0.9277\n",
      "Epoch 67/100\n",
      "469/469 [==============================] - 2s 4ms/step - loss: 0.1592 - accuracy: 0.9385 - val_loss: 0.2157 - val_accuracy: 0.9277\n",
      "Epoch 68/100\n",
      "469/469 [==============================] - 2s 4ms/step - loss: 0.1591 - accuracy: 0.9405 - val_loss: 0.2199 - val_accuracy: 0.9265\n",
      "Epoch 69/100\n",
      "469/469 [==============================] - 2s 4ms/step - loss: 0.1573 - accuracy: 0.9403 - val_loss: 0.2174 - val_accuracy: 0.9258\n",
      "Epoch 70/100\n",
      "469/469 [==============================] - 2s 4ms/step - loss: 0.1575 - accuracy: 0.9403 - val_loss: 0.2178 - val_accuracy: 0.9284\n",
      "Epoch 71/100\n",
      "469/469 [==============================] - 2s 4ms/step - loss: 0.1590 - accuracy: 0.9404 - val_loss: 0.2153 - val_accuracy: 0.9276\n",
      "Epoch 72/100\n",
      "469/469 [==============================] - 2s 4ms/step - loss: 0.1544 - accuracy: 0.9416 - val_loss: 0.2196 - val_accuracy: 0.9267\n",
      "Epoch 73/100\n",
      "469/469 [==============================] - 2s 4ms/step - loss: 0.1581 - accuracy: 0.9404 - val_loss: 0.2273 - val_accuracy: 0.9246\n",
      "Epoch 74/100\n",
      "469/469 [==============================] - 2s 4ms/step - loss: 0.1575 - accuracy: 0.9402 - val_loss: 0.2168 - val_accuracy: 0.9267\n",
      "Epoch 75/100\n",
      "469/469 [==============================] - 2s 4ms/step - loss: 0.1542 - accuracy: 0.9427 - val_loss: 0.2204 - val_accuracy: 0.9259\n",
      "Epoch 76/100\n",
      "469/469 [==============================] - 2s 4ms/step - loss: 0.1520 - accuracy: 0.9424 - val_loss: 0.2216 - val_accuracy: 0.9259\n",
      "Epoch 77/100\n",
      "469/469 [==============================] - 2s 4ms/step - loss: 0.1531 - accuracy: 0.9416 - val_loss: 0.2231 - val_accuracy: 0.9273\n",
      "Epoch 78/100\n",
      "469/469 [==============================] - 2s 4ms/step - loss: 0.1544 - accuracy: 0.9418 - val_loss: 0.2195 - val_accuracy: 0.9258\n",
      "Epoch 79/100\n",
      "469/469 [==============================] - 2s 4ms/step - loss: 0.1515 - accuracy: 0.9419 - val_loss: 0.2175 - val_accuracy: 0.9271\n",
      "Epoch 80/100\n",
      "469/469 [==============================] - 2s 4ms/step - loss: 0.1524 - accuracy: 0.9426 - val_loss: 0.2200 - val_accuracy: 0.9292\n",
      "Epoch 81/100\n",
      "469/469 [==============================] - 2s 4ms/step - loss: 0.1527 - accuracy: 0.9420 - val_loss: 0.2225 - val_accuracy: 0.9277\n",
      "Epoch 82/100\n",
      "469/469 [==============================] - 2s 4ms/step - loss: 0.1525 - accuracy: 0.9420 - val_loss: 0.2186 - val_accuracy: 0.9291\n",
      "Epoch 83/100\n",
      "469/469 [==============================] - 2s 4ms/step - loss: 0.1485 - accuracy: 0.9418 - val_loss: 0.2231 - val_accuracy: 0.9258\n",
      "Epoch 84/100\n",
      "469/469 [==============================] - 2s 4ms/step - loss: 0.1520 - accuracy: 0.9419 - val_loss: 0.2182 - val_accuracy: 0.9284\n",
      "Epoch 85/100\n",
      "469/469 [==============================] - 2s 4ms/step - loss: 0.1482 - accuracy: 0.9440 - val_loss: 0.2229 - val_accuracy: 0.9285\n",
      "Epoch 86/100\n",
      "469/469 [==============================] - 2s 4ms/step - loss: 0.1471 - accuracy: 0.9440 - val_loss: 0.2290 - val_accuracy: 0.9258\n",
      "Epoch 87/100\n",
      "469/469 [==============================] - 2s 4ms/step - loss: 0.1451 - accuracy: 0.9456 - val_loss: 0.2281 - val_accuracy: 0.9265\n",
      "Epoch 88/100\n",
      "469/469 [==============================] - 2s 4ms/step - loss: 0.1472 - accuracy: 0.9443 - val_loss: 0.2191 - val_accuracy: 0.9287\n",
      "Epoch 89/100\n",
      "469/469 [==============================] - 2s 4ms/step - loss: 0.1501 - accuracy: 0.9428 - val_loss: 0.2224 - val_accuracy: 0.9263\n",
      "Epoch 90/100\n",
      "469/469 [==============================] - 2s 4ms/step - loss: 0.1483 - accuracy: 0.9439 - val_loss: 0.2218 - val_accuracy: 0.9279\n",
      "Epoch 91/100\n",
      "469/469 [==============================] - 2s 4ms/step - loss: 0.1480 - accuracy: 0.9439 - val_loss: 0.2169 - val_accuracy: 0.9283\n",
      "Epoch 92/100\n",
      "469/469 [==============================] - 2s 4ms/step - loss: 0.1477 - accuracy: 0.9438 - val_loss: 0.2227 - val_accuracy: 0.9260\n",
      "Epoch 93/100\n",
      "469/469 [==============================] - 2s 4ms/step - loss: 0.1451 - accuracy: 0.9452 - val_loss: 0.2236 - val_accuracy: 0.9285\n",
      "Epoch 94/100\n",
      "469/469 [==============================] - 2s 4ms/step - loss: 0.1428 - accuracy: 0.9464 - val_loss: 0.2281 - val_accuracy: 0.9268\n",
      "Epoch 95/100\n",
      "469/469 [==============================] - 2s 4ms/step - loss: 0.1444 - accuracy: 0.9450 - val_loss: 0.2242 - val_accuracy: 0.9277\n",
      "Epoch 96/100\n",
      "469/469 [==============================] - 2s 4ms/step - loss: 0.1447 - accuracy: 0.9451 - val_loss: 0.2282 - val_accuracy: 0.9283\n",
      "Epoch 97/100\n",
      "469/469 [==============================] - 2s 4ms/step - loss: 0.1446 - accuracy: 0.9446 - val_loss: 0.2191 - val_accuracy: 0.9281\n",
      "Epoch 98/100\n",
      "469/469 [==============================] - 2s 4ms/step - loss: 0.1435 - accuracy: 0.9451 - val_loss: 0.2262 - val_accuracy: 0.9286\n",
      "Epoch 99/100\n",
      "469/469 [==============================] - 2s 4ms/step - loss: 0.1426 - accuracy: 0.9464 - val_loss: 0.2281 - val_accuracy: 0.9262\n",
      "Epoch 100/100\n",
      "469/469 [==============================] - 2s 4ms/step - loss: 0.1428 - accuracy: 0.9464 - val_loss: 0.2186 - val_accuracy: 0.9270\n"
     ]
    }
   ],
   "source": [
    "logdir = os.path.join(\"../logs/\",''.join([TASK,\"-\",datetime.datetime.now().strftime(\"%Y%m%d-%H%M%S\")]))\n",
    "\n",
    "def train_model():\n",
    "\n",
    "  model = create_model()\n",
    "  model.compile(optimizer='adam',\n",
    "                loss='sparse_categorical_crossentropy',\n",
    "                metrics=['accuracy'])\n",
    "\n",
    "  tensorboard_callback = tf.keras.callbacks.TensorBoard(logdir, histogram_freq=1)\n",
    "\n",
    "  model.fit(x=x_train, \n",
    "            y=y_train, \n",
    "            batch_size=128,\n",
    "            epochs=100,\n",
    "            validation_data=(x_test, y_test), \n",
    "            callbacks=[tensorboard_callback],\n",
    "            verbose=1)\n",
    "\n",
    "trained_model = train_model()"
   ]
  },
  {
   "cell_type": "code",
   "execution_count": 12,
   "metadata": {},
   "outputs": [
    {
     "name": "stdout",
     "output_type": "stream",
     "text": [
      "x_train shape: (48000, 28, 28) y_train shape: (48000,)\n",
      "x_valid shape: (12000, 28, 28) y_valid shape: (12000,)\n",
      "x_test shape: (10000, 28, 28) y_test shape: (10000,)\n"
     ]
    }
   ],
   "source": [
    "# Load the fashion-mnist pre-shuffled train data and test data\n",
    "(x_tmp, y_tmp), (x_test, y_test) = tf.keras.datasets.fashion_mnist.load_data()\n",
    "\n",
    "training_len = x_tmp.shape[0]\n",
    "training_split = 0.8\n",
    "\n",
    "i = list(range(0,training_len))\n",
    "random.shuffle(i)\n",
    "\n",
    "training_inds = set(i[0:int(np.floor(training_split*training_len))])\n",
    "validation_inds = set()\n",
    "for i in range(0,training_len):\n",
    "    if i not in training_inds:\n",
    "        validation_inds.add(i)\n",
    "\n",
    "\n",
    "\n",
    "x_train = x_tmp[list(training_inds)]\n",
    "x_valid = x_tmp[list(validation_inds)]\n",
    "y_train = y_tmp[list(training_inds)]\n",
    "y_valid = y_tmp[list(validation_inds)]\n",
    "\n",
    "\n",
    "\n",
    "print(\"x_train shape:\", x_train.shape, \"y_train shape:\", y_train.shape)\n",
    "print(\"x_valid shape:\", x_valid.shape, \"y_valid shape:\", y_valid.shape)\n",
    "print(\"x_test shape:\", x_test.shape, \"y_test shape:\", y_test.shape)"
   ]
  }
 ],
 "metadata": {
  "interpreter": {
   "hash": "4f0f00476bf3a68144e5fe1ac7c732c5bd1bb6be96a0d4ae196528f0eb94dba7"
  },
  "kernelspec": {
   "display_name": "tf2-6-0",
   "language": "python",
   "name": "python3"
  },
  "language_info": {
   "codemirror_mode": {
    "name": "ipython",
    "version": 3
   },
   "file_extension": ".py",
   "mimetype": "text/x-python",
   "name": "python",
   "nbconvert_exporter": "python",
   "pygments_lexer": "ipython3",
   "version": "3.9.0"
  },
  "orig_nbformat": 4
 },
 "nbformat": 4,
 "nbformat_minor": 2
}
