{
 "cells": [
  {
   "cell_type": "code",
   "execution_count": 1,
   "metadata": {},
   "outputs": [
    {
     "name": "stdout",
     "output_type": "stream",
     "text": [
      "[PhysicalDevice(name='/physical_device:GPU:0', device_type='GPU'), PhysicalDevice(name='/physical_device:GPU:1', device_type='GPU')]\n"
     ]
    }
   ],
   "source": [
    "import datetime, logging, os, sys, math, random\n",
    "logging.disable(logging.WARNING)\n",
    "os.environ[\"TF_CPP_MIN_LOG_LEVEL\"] = \"3\"\n",
    "\n",
    "import tensorflow as tf\n",
    "import tensorflow_addons as tfa\n",
    "import pandas as pd\n",
    "import numpy as np\n",
    "import matplotlib.pyplot as plt\n",
    "import seaborn as sns\n",
    "import cv2 as cv\n",
    "from PIL import Image as Img\n",
    "\n",
    "import pickle \n",
    "import albumentations as A\n",
    "\n",
    "from ImageDataAugmentor.image_data_augmentor import *\n",
    "from albumentations.core.composition import Compose, OneOf\n",
    "from albumentations.core.transforms_interface import ImageOnlyTransform\n",
    "\n",
    "devices = tf.config.list_physical_devices('GPU')\n",
    "for device in devices:\n",
    "   tf.config.experimental.set_memory_growth(device, True) \n",
    "print(devices)"
   ]
  },
  {
   "cell_type": "code",
   "execution_count": 2,
   "metadata": {},
   "outputs": [
    {
     "data": {
      "text/html": [
       "<div>\n",
       "<style scoped>\n",
       "    .dataframe tbody tr th:only-of-type {\n",
       "        vertical-align: middle;\n",
       "    }\n",
       "\n",
       "    .dataframe tbody tr th {\n",
       "        vertical-align: top;\n",
       "    }\n",
       "\n",
       "    .dataframe thead th {\n",
       "        text-align: right;\n",
       "    }\n",
       "</style>\n",
       "<table border=\"1\" class=\"dataframe\">\n",
       "  <thead>\n",
       "    <tr style=\"text-align: right;\">\n",
       "      <th></th>\n",
       "      <th>filename</th>\n",
       "      <th>cultivar</th>\n",
       "    </tr>\n",
       "  </thead>\n",
       "  <tbody>\n",
       "    <tr>\n",
       "      <th>0</th>\n",
       "      <td>1000005362.png</td>\n",
       "      <td>PI_152923</td>\n",
       "    </tr>\n",
       "    <tr>\n",
       "      <th>1</th>\n",
       "      <td>1000099707.png</td>\n",
       "      <td>PI_152923</td>\n",
       "    </tr>\n",
       "    <tr>\n",
       "      <th>2</th>\n",
       "      <td>1000135300.png</td>\n",
       "      <td>PI_152923</td>\n",
       "    </tr>\n",
       "    <tr>\n",
       "      <th>3</th>\n",
       "      <td>1000136796.png</td>\n",
       "      <td>PI_152923</td>\n",
       "    </tr>\n",
       "    <tr>\n",
       "      <th>4</th>\n",
       "      <td>1000292439.png</td>\n",
       "      <td>PI_152923</td>\n",
       "    </tr>\n",
       "    <tr>\n",
       "      <th>...</th>\n",
       "      <td>...</td>\n",
       "      <td>...</td>\n",
       "    </tr>\n",
       "    <tr>\n",
       "      <th>23634</th>\n",
       "      <td>999578153.png</td>\n",
       "      <td>PI_152923</td>\n",
       "    </tr>\n",
       "    <tr>\n",
       "      <th>23635</th>\n",
       "      <td>999692877.png</td>\n",
       "      <td>PI_152923</td>\n",
       "    </tr>\n",
       "    <tr>\n",
       "      <th>23636</th>\n",
       "      <td>999756998.png</td>\n",
       "      <td>PI_152923</td>\n",
       "    </tr>\n",
       "    <tr>\n",
       "      <th>23637</th>\n",
       "      <td>999892248.png</td>\n",
       "      <td>PI_152923</td>\n",
       "    </tr>\n",
       "    <tr>\n",
       "      <th>23638</th>\n",
       "      <td>999945922.png</td>\n",
       "      <td>PI_152923</td>\n",
       "    </tr>\n",
       "  </tbody>\n",
       "</table>\n",
       "<p>23639 rows × 2 columns</p>\n",
       "</div>"
      ],
      "text/plain": [
       "             filename   cultivar\n",
       "0      1000005362.png  PI_152923\n",
       "1      1000099707.png  PI_152923\n",
       "2      1000135300.png  PI_152923\n",
       "3      1000136796.png  PI_152923\n",
       "4      1000292439.png  PI_152923\n",
       "...               ...        ...\n",
       "23634   999578153.png  PI_152923\n",
       "23635   999692877.png  PI_152923\n",
       "23636   999756998.png  PI_152923\n",
       "23637   999892248.png  PI_152923\n",
       "23638   999945922.png  PI_152923\n",
       "\n",
       "[23639 rows x 2 columns]"
      ]
     },
     "execution_count": 2,
     "metadata": {},
     "output_type": "execute_result"
    }
   ],
   "source": [
    "PATH = os.path.abspath(os.path.join(os.getcwd() ,\"../../../../datasets/sorghum-id-fgvc-9\"))+\"/\"\n",
    "\n",
    "MODEL_NAME = \"sorghum_id-20220425-214757-EfficientNetB7-imagenet\" #### CHANGE ME\n",
    "MODEL_PATH = \"../models/\"+MODEL_NAME+\"/EfficientNetB7-optimal.h5\"\n",
    "\n",
    "test_dir = PATH+'test/'\n",
    "save_dir    = '../results/sorghum/'\n",
    "\n",
    "WIDTH = 512\n",
    "HEIGHT = 512\n",
    "\n",
    "f = open(\"../labels.pkl\",\"rb\")\n",
    "labels = pickle.load(f)\n",
    "f.close()\n",
    "\n",
    "submission = pd.read_csv(PATH+'sample_submission.csv')\n",
    "\n",
    "submission"
   ]
  },
  {
   "cell_type": "code",
   "execution_count": 3,
   "metadata": {},
   "outputs": [],
   "source": [
    "def clahe(img):\n",
    "    c = cv.createCLAHE(clipLimit=40, tileGridSize=(16,16))  # create a clahe object\n",
    "    t = np.asarray(img)                                     # convert to np array\n",
    "    t = cv.cvtColor(t, cv.COLOR_BGR2HSV)                    # convert to OpenCV HSV\n",
    "    t[:,:,-1] = c.apply(t[:,:,-1])                          # Apply CLAHE to the Value (greyscale) of the image\n",
    "    t = cv.cvtColor(t, cv.COLOR_HSV2BGR)                    # Return to BGR OpenCV doamin\n",
    "    t = Img.fromarray(t)                                    # Convert to PIL Image\n",
    "    t = np.array(t)                                         # back to np array\n",
    "    return t\n",
    "\n",
    "def normalise(img):\n",
    "    t = np.array(img,dtype=np.float32)/255\n",
    "    return t\n",
    "\n",
    "class CLAHE(ImageOnlyTransform):\n",
    "    def apply(self, img, **params):\n",
    "        return clahe(img)\n",
    "\n",
    "class NORMALISE(ImageOnlyTransform):\n",
    "    def apply(self, img, **params):\n",
    "        return normalise(img)\n",
    "\n",
    "def augment_data(phase: str):\n",
    "    if phase == \"train\":\n",
    "        return Compose([\n",
    "                CLAHE(p=1),\n",
    "                A.RandomResizedCrop(height=HEIGHT, width=WIDTH),\n",
    "                A.Flip(p=0.5),\n",
    "                A.RandomRotate90(p=0.5),\n",
    "                A.ShiftScaleRotate(p=0.5),\n",
    "                A.HueSaturationValue(p=0.5),\n",
    "                A.OneOf([\n",
    "                    A.RandomBrightnessContrast(p=0.5),\n",
    "                    A.RandomGamma(p=0.5),\n",
    "                ], p=0.5),\n",
    "                OneOf([\n",
    "                    A.Blur(p=0.1),\n",
    "                    A.GaussianBlur(p=0.1),\n",
    "                    A.MotionBlur(p=0.1),\n",
    "                ], p=0.1),\n",
    "                OneOf([\n",
    "                    A.GaussNoise(p=0.1),\n",
    "                    A.ISONoise(p=0.1),\n",
    "                    A.GridDropout(ratio=0.5, p=0.2),\n",
    "                    A.CoarseDropout(max_holes=16, min_holes=8, max_height=16,\n",
    "                                    max_width=16, min_height=8, min_width=8, p=0.2)\n",
    "                ], p=0.2),\n",
    "                NORMALISE(p=1),\n",
    "                \n",
    "        ])\n",
    "    else:\n",
    "        return Compose([\n",
    "                CLAHE(p=1),\n",
    "                A.Resize(height=HEIGHT, width=WIDTH),\n",
    "                NORMALISE(p=1),\n",
    "        ])"
   ]
  },
  {
   "cell_type": "code",
   "execution_count": 4,
   "metadata": {},
   "outputs": [
    {
     "name": "stdout",
     "output_type": "stream",
     "text": [
      "Found 23639 validated image filenames.\n"
     ]
    }
   ],
   "source": [
    "test_gen = ImageDataAugmentor(augment=augment_data(\"test\"))\n",
    "test_generator = test_gen.flow_from_dataframe(dataframe=submission,\n",
    "                                              directory=test_dir,\n",
    "                                              x_col='filename',\n",
    "                                              y_col=None,\n",
    "                                              target_size=(WIDTH,HEIGHT),\n",
    "                                              color_mode='rgb',\n",
    "                                              class_mode=None,\n",
    "                                              batch_size=1,\n",
    "                                              shuffle=False,)\n",
    "\n",
    "STEP_SIZE_TEST=test_generator.n//test_generator.batch_size\n",
    "STEP_SIZE_TEST,test_generator.n,test_generator.batch_size\n",
    "\n",
    "reconstructed_model = tf.keras.models.load_model(MODEL_PATH)"
   ]
  },
  {
   "cell_type": "code",
   "execution_count": 5,
   "metadata": {},
   "outputs": [
    {
     "name": "stdout",
     "output_type": "stream",
     "text": [
      "CPU times: user 13 µs, sys: 12 µs, total: 25 µs\n",
      "Wall time: 48.4 µs\n",
      "23639/23639 [==============================] - 2777s 116ms/step\n"
     ]
    }
   ],
   "source": [
    "%time\n",
    "test_generator.reset()\n",
    "results = reconstructed_model.predict(test_generator,verbose=1,steps=STEP_SIZE_TEST)\n",
    "\n",
    "predicted_class_indices=np.argmax(results,axis=1)\n",
    "labels = dict((v,k) for k,v in labels.items())\n",
    "predictions = [labels[k] for k in predicted_class_indices]"
   ]
  },
  {
   "cell_type": "code",
   "execution_count": 6,
   "metadata": {},
   "outputs": [],
   "source": [
    "filenames=test_generator.filenames\n",
    "submission=pd.DataFrame({\"Filename\":[filename.replace('all_classes/','')for filename in filenames],\n",
    "                      \"cultivar\":predictions})\n",
    "submission\n",
    "\n",
    "submission_name = save_dir+'submission-EfficientNetB7-imagenet-20220425-214757.csv'\n",
    "submission.to_csv(submission_name,index=False)\n",
    "#os.system('kaggle competitions submit -c sorghum-id-fgvc-9 -f '+submission_name+' -m \"EfficientNetB7 with CLAHE PreProc\"')"
   ]
  },
  {
   "cell_type": "code",
   "execution_count": 7,
   "metadata": {},
   "outputs": [
    {
     "data": {
      "text/plain": [
       "18"
      ]
     },
     "execution_count": 7,
     "metadata": {},
     "output_type": "execute_result"
    }
   ],
   "source": [
    "submission_df = pd.read_csv(submission_name)\n",
    "len(pd.unique(submission_df['cultivar']))"
   ]
  },
  {
   "cell_type": "code",
   "execution_count": 8,
   "metadata": {},
   "outputs": [
    {
     "name": "stderr",
     "output_type": "stream",
     "text": [
      "100%|██████████| 565k/565k [00:01<00:00, 321kB/s] \n"
     ]
    },
    {
     "name": "stdout",
     "output_type": "stream",
     "text": [
      "Successfully submitted to Sorghum -100 Cultivar Identification - FGVC 9"
     ]
    },
    {
     "data": {
      "text/plain": [
       "0"
      ]
     },
     "execution_count": 8,
     "metadata": {},
     "output_type": "execute_result"
    }
   ],
   "source": [
    "os.system('kaggle competitions submit -c sorghum-id-fgvc-9 -f '+submission_name+' -m \"EfficientNetB7 with CLAHE PreProc\"')"
   ]
  }
 ],
 "metadata": {
  "interpreter": {
   "hash": "97be6e05d7386128d40792e7716175d9798026d595bb7b8edf5fe0f98e80cc2a"
  },
  "kernelspec": {
   "display_name": "Python 3.9.12 ('tf2_6_0')",
   "language": "python",
   "name": "python3"
  },
  "language_info": {
   "codemirror_mode": {
    "name": "ipython",
    "version": 3
   },
   "file_extension": ".py",
   "mimetype": "text/x-python",
   "name": "python",
   "nbconvert_exporter": "python",
   "pygments_lexer": "ipython3",
   "version": "3.9.12"
  },
  "orig_nbformat": 4
 },
 "nbformat": 4,
 "nbformat_minor": 2
}
