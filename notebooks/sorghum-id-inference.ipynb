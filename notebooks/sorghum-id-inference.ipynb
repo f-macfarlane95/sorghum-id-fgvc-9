{
 "cells": [
  {
   "cell_type": "code",
   "execution_count": 1,
   "metadata": {},
   "outputs": [
    {
     "name": "stdout",
     "output_type": "stream",
     "text": [
      "[PhysicalDevice(name='/physical_device:GPU:0', device_type='GPU'), PhysicalDevice(name='/physical_device:GPU:1', device_type='GPU')]\n"
     ]
    }
   ],
   "source": [
    "import datetime, logging, os, sys, math, random\n",
    "logging.disable(logging.WARNING)\n",
    "os.environ[\"TF_CPP_MIN_LOG_LEVEL\"] = \"3\"\n",
    "\n",
    "import tensorflow as tf\n",
    "import tensorflow_addons as tfa\n",
    "import pandas as pd\n",
    "import numpy as np\n",
    "import matplotlib.pyplot as plt\n",
    "import seaborn as sns\n",
    "import cv2 as cv\n",
    "from PIL import Image as Img\n",
    "import albumentations as alb\n",
    "\n",
    "from ImageDataAugmentor.image_data_augmentor import *\n",
    "from sklearn.model_selection import train_test_split, StratifiedKFold\n",
    "from albumentations.core.composition import Compose, OneOf\n",
    "from tensorflow.keras import Sequential, layers\n",
    "from tensorflow.keras.callbacks import EarlyStopping, ModelCheckpoint\n",
    "\n",
    "devices = tf.config.list_physical_devices('GPU')\n",
    "for device in devices:\n",
    "   tf.config.experimental.set_memory_growth(device, True) \n",
    "print(devices)"
   ]
  },
  {
   "cell_type": "code",
   "execution_count": 2,
   "metadata": {},
   "outputs": [],
   "source": [
    "TASK = \"sorghum-id\"\n",
    "TASK_ID = datetime.datetime.now().strftime(\"%Y%m%d-%H%M%S\")\n",
    "PATH = os.path.abspath(os.path.join(os.getcwd() ,\"../../../../datasets/sorghum-id-fgvc-9\"))+\"/\"\n",
    "\n",
    "train_dir = PATH+'train_images/'\n",
    "test_dir = PATH+'test/'\n",
    "\n",
    "save_dir    = '../results/sorghum/'\n",
    "log_dir     = os.path.join(\"../logs/\",''.join([TASK,\"-\",TASK_ID]))\n",
    "model_dir   = os.path.join(\"../models/\",''.join([TASK,\"-\",TASK_ID]))+'/'\n",
    "\n",
    "WIDTH = 512\n",
    "HEIGHT = 512\n",
    "\n"
   ]
  },
  {
   "cell_type": "code",
   "execution_count": 3,
   "metadata": {},
   "outputs": [
    {
     "data": {
      "text/html": [
       "<div>\n",
       "<style scoped>\n",
       "    .dataframe tbody tr th:only-of-type {\n",
       "        vertical-align: middle;\n",
       "    }\n",
       "\n",
       "    .dataframe tbody tr th {\n",
       "        vertical-align: top;\n",
       "    }\n",
       "\n",
       "    .dataframe thead th {\n",
       "        text-align: right;\n",
       "    }\n",
       "</style>\n",
       "<table border=\"1\" class=\"dataframe\">\n",
       "  <thead>\n",
       "    <tr style=\"text-align: right;\">\n",
       "      <th></th>\n",
       "      <th>filename</th>\n",
       "      <th>cultivar</th>\n",
       "    </tr>\n",
       "  </thead>\n",
       "  <tbody>\n",
       "    <tr>\n",
       "      <th>0</th>\n",
       "      <td>1000005362.png</td>\n",
       "      <td>PI_152923</td>\n",
       "    </tr>\n",
       "    <tr>\n",
       "      <th>1</th>\n",
       "      <td>1000099707.png</td>\n",
       "      <td>PI_152923</td>\n",
       "    </tr>\n",
       "    <tr>\n",
       "      <th>2</th>\n",
       "      <td>1000135300.png</td>\n",
       "      <td>PI_152923</td>\n",
       "    </tr>\n",
       "    <tr>\n",
       "      <th>3</th>\n",
       "      <td>1000136796.png</td>\n",
       "      <td>PI_152923</td>\n",
       "    </tr>\n",
       "    <tr>\n",
       "      <th>4</th>\n",
       "      <td>1000292439.png</td>\n",
       "      <td>PI_152923</td>\n",
       "    </tr>\n",
       "    <tr>\n",
       "      <th>...</th>\n",
       "      <td>...</td>\n",
       "      <td>...</td>\n",
       "    </tr>\n",
       "    <tr>\n",
       "      <th>23634</th>\n",
       "      <td>999578153.png</td>\n",
       "      <td>PI_152923</td>\n",
       "    </tr>\n",
       "    <tr>\n",
       "      <th>23635</th>\n",
       "      <td>999692877.png</td>\n",
       "      <td>PI_152923</td>\n",
       "    </tr>\n",
       "    <tr>\n",
       "      <th>23636</th>\n",
       "      <td>999756998.png</td>\n",
       "      <td>PI_152923</td>\n",
       "    </tr>\n",
       "    <tr>\n",
       "      <th>23637</th>\n",
       "      <td>999892248.png</td>\n",
       "      <td>PI_152923</td>\n",
       "    </tr>\n",
       "    <tr>\n",
       "      <th>23638</th>\n",
       "      <td>999945922.png</td>\n",
       "      <td>PI_152923</td>\n",
       "    </tr>\n",
       "  </tbody>\n",
       "</table>\n",
       "<p>23639 rows × 2 columns</p>\n",
       "</div>"
      ],
      "text/plain": [
       "             filename   cultivar\n",
       "0      1000005362.png  PI_152923\n",
       "1      1000099707.png  PI_152923\n",
       "2      1000135300.png  PI_152923\n",
       "3      1000136796.png  PI_152923\n",
       "4      1000292439.png  PI_152923\n",
       "...               ...        ...\n",
       "23634   999578153.png  PI_152923\n",
       "23635   999692877.png  PI_152923\n",
       "23636   999756998.png  PI_152923\n",
       "23637   999892248.png  PI_152923\n",
       "23638   999945922.png  PI_152923\n",
       "\n",
       "[23639 rows x 2 columns]"
      ]
     },
     "execution_count": 3,
     "metadata": {},
     "output_type": "execute_result"
    }
   ],
   "source": [
    "submission = pd.read_csv(PATH+'sample_submission.csv')\n",
    "submission"
   ]
  },
  {
   "cell_type": "code",
   "execution_count": 4,
   "metadata": {},
   "outputs": [],
   "source": [
    "def CLAHE(img):\n",
    "    clahe = cv.createCLAHE(clipLimit=40, tileGridSize=(10,10))\n",
    "    t = np.asarray(img)\n",
    "    t = cv.cvtColor(t, cv.COLOR_BGR2HSV)\n",
    "    t[:,:,-1] = clahe.apply(t[:,:,-1])\n",
    "    t = cv.cvtColor(t, cv.COLOR_HSV2BGR)\n",
    "    t = Img.fromarray(t)\n",
    "    t = np.array(t)\n",
    "    return t"
   ]
  },
  {
   "cell_type": "code",
   "execution_count": 5,
   "metadata": {},
   "outputs": [
    {
     "name": "stdout",
     "output_type": "stream",
     "text": [
      "Found 23639 validated image filenames.\n"
     ]
    }
   ],
   "source": [
    "test_gen= ImageDataAugmentor(preprocess_input=CLAHE)\n",
    "test_generator = test_gen.flow_from_dataframe(dataframe=submission,\n",
    "                                              directory=test_dir,\n",
    "                                              x_col='filename',\n",
    "                                              y_col=None,\n",
    "                                              target_size=(WIDTH,HEIGHT),\n",
    "                                              color_mode='rgb',\n",
    "                                              class_mode=None,\n",
    "                                              batch_size=1,\n",
    "                                              shuffle=False,)"
   ]
  },
  {
   "cell_type": "code",
   "execution_count": 6,
   "metadata": {},
   "outputs": [
    {
     "data": {
      "text/plain": [
       "(23639, 23639, 1)"
      ]
     },
     "execution_count": 6,
     "metadata": {},
     "output_type": "execute_result"
    }
   ],
   "source": [
    "STEP_SIZE_TEST=test_generator.n//test_generator.batch_size\n",
    "STEP_SIZE_TEST,test_generator.n,test_generator.batch_size"
   ]
  },
  {
   "cell_type": "code",
   "execution_count": 7,
   "metadata": {},
   "outputs": [],
   "source": [
    "MODEL_NAME = \"sorghum-id-20220423-000453-EfficientNetB7-imagenet\"\n",
    "MODEL_PATH = \"../models/\"+MODEL_NAME+\"/EfficientNetB7-optimal.h5\"\n",
    "\n",
    "reconstructed_model = tf.keras.models.load_model(MODEL_PATH)"
   ]
  },
  {
   "cell_type": "code",
   "execution_count": 8,
   "metadata": {},
   "outputs": [
    {
     "name": "stdout",
     "output_type": "stream",
     "text": [
      "CPU times: user 0 ns, sys: 40 µs, total: 40 µs\n",
      "Wall time: 74.4 µs\n",
      "23639/23639 [==============================] - 2900s 121ms/step\n"
     ]
    }
   ],
   "source": [
    "%time\n",
    "test_generator.reset()\n",
    "results = reconstructed_model.predict(test_generator,verbose=1,steps=STEP_SIZE_TEST)"
   ]
  },
  {
   "cell_type": "code",
   "execution_count": 9,
   "metadata": {},
   "outputs": [],
   "source": [
    "import pickle \n",
    "\n",
    "predicted_class_indices=np.argmax(results,axis=1)\n",
    "\n",
    "f = open(\"../labels.pkl\",\"rb\")\n",
    "labels = pickle.load(f)\n",
    "f.close()\n",
    "\n",
    "labels = dict((v,k) for k,v in labels.items())\n",
    "predictions = [labels[k] for k in predicted_class_indices]"
   ]
  },
  {
   "cell_type": "code",
   "execution_count": 29,
   "metadata": {},
   "outputs": [
    {
     "data": {
      "text/html": [
       "<div>\n",
       "<style scoped>\n",
       "    .dataframe tbody tr th:only-of-type {\n",
       "        vertical-align: middle;\n",
       "    }\n",
       "\n",
       "    .dataframe tbody tr th {\n",
       "        vertical-align: top;\n",
       "    }\n",
       "\n",
       "    .dataframe thead th {\n",
       "        text-align: right;\n",
       "    }\n",
       "</style>\n",
       "<table border=\"1\" class=\"dataframe\">\n",
       "  <thead>\n",
       "    <tr style=\"text-align: right;\">\n",
       "      <th></th>\n",
       "      <th>Filename</th>\n",
       "      <th>cultivar</th>\n",
       "    </tr>\n",
       "  </thead>\n",
       "  <tbody>\n",
       "    <tr>\n",
       "      <th>0</th>\n",
       "      <td>1000005362.png</td>\n",
       "      <td>PI_175919</td>\n",
       "    </tr>\n",
       "    <tr>\n",
       "      <th>1</th>\n",
       "      <td>1000099707.png</td>\n",
       "      <td>PI_255744</td>\n",
       "    </tr>\n",
       "    <tr>\n",
       "      <th>2</th>\n",
       "      <td>1000135300.png</td>\n",
       "      <td>PI_196598</td>\n",
       "    </tr>\n",
       "    <tr>\n",
       "      <th>3</th>\n",
       "      <td>1000136796.png</td>\n",
       "      <td>PI_329256</td>\n",
       "    </tr>\n",
       "    <tr>\n",
       "      <th>4</th>\n",
       "      <td>1000292439.png</td>\n",
       "      <td>PI_157035</td>\n",
       "    </tr>\n",
       "    <tr>\n",
       "      <th>...</th>\n",
       "      <td>...</td>\n",
       "      <td>...</td>\n",
       "    </tr>\n",
       "    <tr>\n",
       "      <th>23634</th>\n",
       "      <td>999578153.png</td>\n",
       "      <td>PI_152965</td>\n",
       "    </tr>\n",
       "    <tr>\n",
       "      <th>23635</th>\n",
       "      <td>999692877.png</td>\n",
       "      <td>PI_152591</td>\n",
       "    </tr>\n",
       "    <tr>\n",
       "      <th>23636</th>\n",
       "      <td>999756998.png</td>\n",
       "      <td>PI_144134</td>\n",
       "    </tr>\n",
       "    <tr>\n",
       "      <th>23637</th>\n",
       "      <td>999892248.png</td>\n",
       "      <td>PI_144134</td>\n",
       "    </tr>\n",
       "    <tr>\n",
       "      <th>23638</th>\n",
       "      <td>999945922.png</td>\n",
       "      <td>PI_22913</td>\n",
       "    </tr>\n",
       "  </tbody>\n",
       "</table>\n",
       "<p>23639 rows × 2 columns</p>\n",
       "</div>"
      ],
      "text/plain": [
       "             Filename   cultivar\n",
       "0      1000005362.png  PI_175919\n",
       "1      1000099707.png  PI_255744\n",
       "2      1000135300.png  PI_196598\n",
       "3      1000136796.png  PI_329256\n",
       "4      1000292439.png  PI_157035\n",
       "...               ...        ...\n",
       "23634   999578153.png  PI_152965\n",
       "23635   999692877.png  PI_152591\n",
       "23636   999756998.png  PI_144134\n",
       "23637   999892248.png  PI_144134\n",
       "23638   999945922.png   PI_22913\n",
       "\n",
       "[23639 rows x 2 columns]"
      ]
     },
     "execution_count": 29,
     "metadata": {},
     "output_type": "execute_result"
    }
   ],
   "source": [
    "filenames=test_generator.filenames\n",
    "submission=pd.DataFrame({\"Filename\":[filename.replace('all_classes/','')for filename in filenames],\n",
    "                      \"cultivar\":predictions})\n",
    "submission"
   ]
  },
  {
   "cell_type": "code",
   "execution_count": 30,
   "metadata": {},
   "outputs": [
    {
     "name": "stderr",
     "output_type": "stream",
     "text": [
      "100%|██████████| 563k/563k [00:01<00:00, 296kB/s] \n"
     ]
    },
    {
     "name": "stdout",
     "output_type": "stream",
     "text": [
      "Successfully submitted to Sorghum -100 Cultivar Identification - FGVC 9"
     ]
    },
    {
     "data": {
      "text/plain": [
       "0"
      ]
     },
     "execution_count": 30,
     "metadata": {},
     "output_type": "execute_result"
    }
   ],
   "source": [
    "submission_name = save_dir+'submission-EfficientNetB4-imagenet-20220422-174202.csv'\n",
    "submission.to_csv(submission_name,index=False)\n",
    "os.system('kaggle competitions submit -c sorghum-id-fgvc-9 -f '+submission_name+' -m \"EfficientNetB7 with CLAHE PreProc\"')"
   ]
  },
  {
   "cell_type": "code",
   "execution_count": 31,
   "metadata": {},
   "outputs": [
    {
     "name": "stdout",
     "output_type": "stream",
     "text": [
      "CPU times: user 23 µs, sys: 12 µs, total: 35 µs\n",
      "Wall time: 73 µs\n",
      "23639/23639 [==============================] - 966s 41ms/step\n"
     ]
    }
   ],
   "source": [
    "MODEL_NAME = \"sorghum-id-20220422-170329-EfficientNetB7-imagenet\"\n",
    "MODEL_PATH = \"../models/\"+MODEL_NAME+\"/EfficientNetB7-optimal.h5\"\n",
    "\n",
    "reconstructed_model = tf.keras.models.load_model(MODEL_PATH)\n",
    "\n",
    "%time\n",
    "test_generator.reset()\n",
    "results = reconstructed_model.predict(test_generator,verbose=1,steps=STEP_SIZE_TEST)"
   ]
  },
  {
   "cell_type": "code",
   "execution_count": 35,
   "metadata": {},
   "outputs": [],
   "source": [
    "predicted_class_indices=np.argmax(results,axis=1)\n",
    "f = open(\"../labels.pkl\",\"rb\")\n",
    "labels = pickle.load(f)\n",
    "f.close()\n",
    "\n",
    "labels = dict((v,k) for k,v in labels.items())\n",
    "predictions = [labels[k] for k in predicted_class_indices]"
   ]
  },
  {
   "cell_type": "code",
   "execution_count": 36,
   "metadata": {},
   "outputs": [
    {
     "data": {
      "text/html": [
       "<div>\n",
       "<style scoped>\n",
       "    .dataframe tbody tr th:only-of-type {\n",
       "        vertical-align: middle;\n",
       "    }\n",
       "\n",
       "    .dataframe tbody tr th {\n",
       "        vertical-align: top;\n",
       "    }\n",
       "\n",
       "    .dataframe thead th {\n",
       "        text-align: right;\n",
       "    }\n",
       "</style>\n",
       "<table border=\"1\" class=\"dataframe\">\n",
       "  <thead>\n",
       "    <tr style=\"text-align: right;\">\n",
       "      <th></th>\n",
       "      <th>Filename</th>\n",
       "      <th>cultivar</th>\n",
       "    </tr>\n",
       "  </thead>\n",
       "  <tbody>\n",
       "    <tr>\n",
       "      <th>0</th>\n",
       "      <td>1000005362.png</td>\n",
       "      <td>PI_180348</td>\n",
       "    </tr>\n",
       "    <tr>\n",
       "      <th>1</th>\n",
       "      <td>1000099707.png</td>\n",
       "      <td>PI_276837</td>\n",
       "    </tr>\n",
       "    <tr>\n",
       "      <th>2</th>\n",
       "      <td>1000135300.png</td>\n",
       "      <td>PI_92270</td>\n",
       "    </tr>\n",
       "    <tr>\n",
       "      <th>3</th>\n",
       "      <td>1000136796.png</td>\n",
       "      <td>PI_329256</td>\n",
       "    </tr>\n",
       "    <tr>\n",
       "      <th>4</th>\n",
       "      <td>1000292439.png</td>\n",
       "      <td>PI_145633</td>\n",
       "    </tr>\n",
       "    <tr>\n",
       "      <th>...</th>\n",
       "      <td>...</td>\n",
       "      <td>...</td>\n",
       "    </tr>\n",
       "    <tr>\n",
       "      <th>23634</th>\n",
       "      <td>999578153.png</td>\n",
       "      <td>PI_152816</td>\n",
       "    </tr>\n",
       "    <tr>\n",
       "      <th>23635</th>\n",
       "      <td>999692877.png</td>\n",
       "      <td>PI_197542</td>\n",
       "    </tr>\n",
       "    <tr>\n",
       "      <th>23636</th>\n",
       "      <td>999756998.png</td>\n",
       "      <td>PI_152733</td>\n",
       "    </tr>\n",
       "    <tr>\n",
       "      <th>23637</th>\n",
       "      <td>999892248.png</td>\n",
       "      <td>PI_152923</td>\n",
       "    </tr>\n",
       "    <tr>\n",
       "      <th>23638</th>\n",
       "      <td>999945922.png</td>\n",
       "      <td>PI_22913</td>\n",
       "    </tr>\n",
       "  </tbody>\n",
       "</table>\n",
       "<p>23639 rows × 2 columns</p>\n",
       "</div>"
      ],
      "text/plain": [
       "             Filename   cultivar\n",
       "0      1000005362.png  PI_180348\n",
       "1      1000099707.png  PI_276837\n",
       "2      1000135300.png   PI_92270\n",
       "3      1000136796.png  PI_329256\n",
       "4      1000292439.png  PI_145633\n",
       "...               ...        ...\n",
       "23634   999578153.png  PI_152816\n",
       "23635   999692877.png  PI_197542\n",
       "23636   999756998.png  PI_152733\n",
       "23637   999892248.png  PI_152923\n",
       "23638   999945922.png   PI_22913\n",
       "\n",
       "[23639 rows x 2 columns]"
      ]
     },
     "execution_count": 36,
     "metadata": {},
     "output_type": "execute_result"
    }
   ],
   "source": [
    "filenames=test_generator.filenames\n",
    "submission=pd.DataFrame({\"Filename\":[filename.replace('all_classes/','')for filename in filenames],\n",
    "                      \"cultivar\":predictions})\n",
    "submission\n"
   ]
  },
  {
   "cell_type": "code",
   "execution_count": 38,
   "metadata": {},
   "outputs": [
    {
     "name": "stderr",
     "output_type": "stream",
     "text": [
      "100%|██████████| 563k/563k [00:01<00:00, 303kB/s] \n"
     ]
    },
    {
     "name": "stdout",
     "output_type": "stream",
     "text": [
      "Successfully submitted to Sorghum -100 Cultivar Identification - FGVC 9"
     ]
    },
    {
     "data": {
      "text/plain": [
       "0"
      ]
     },
     "execution_count": 38,
     "metadata": {},
     "output_type": "execute_result"
    }
   ],
   "source": [
    "#!kaggle competitions submit -c sorghum-id-fgvc-9 -f $submission_name -m \"With flow from dataframe generator\"\n",
    "submission_name = \"../results/submission-EfficientNetB7-imagenet-20220422-170329.csv\"\n",
    "submission.to_csv(submission_name,index=False)\n",
    "os.system('kaggle competitions submit -c sorghum-id-fgvc-9 -f '+submission_name+' -m \"EfficientNetB7 with CLAHE PreProc\"')"
   ]
  }
 ],
 "metadata": {
  "kernelspec": {
   "display_name": "tf2-6-0",
   "language": "python",
   "name": "tf2-6-0"
  },
  "language_info": {
   "codemirror_mode": {
    "name": "ipython",
    "version": 3
   },
   "file_extension": ".py",
   "mimetype": "text/x-python",
   "name": "python",
   "nbconvert_exporter": "python",
   "pygments_lexer": "ipython3",
   "version": "3.9.12"
  },
  "orig_nbformat": 4
 },
 "nbformat": 4,
 "nbformat_minor": 2
}
